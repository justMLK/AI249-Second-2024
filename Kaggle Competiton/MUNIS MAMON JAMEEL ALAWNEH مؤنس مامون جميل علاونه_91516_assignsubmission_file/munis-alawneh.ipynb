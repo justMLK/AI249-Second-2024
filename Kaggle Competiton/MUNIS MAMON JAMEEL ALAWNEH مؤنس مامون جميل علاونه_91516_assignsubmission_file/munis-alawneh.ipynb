{
 "cells": [
  {
   "cell_type": "markdown",
   "id": "142b7b35",
   "metadata": {
    "papermill": {
     "duration": 0.006898,
     "end_time": "2024-06-08T15:11:15.530922",
     "exception": false,
     "start_time": "2024-06-08T15:11:15.524024",
     "status": "completed"
    },
    "tags": []
   },
   "source": [
    "# Importing libraries & dataframe reading"
   ]
  },
  {
   "cell_type": "code",
   "execution_count": 1,
   "id": "3b9997bc",
   "metadata": {
    "execution": {
     "iopub.execute_input": "2024-06-08T15:11:15.546089Z",
     "iopub.status.busy": "2024-06-08T15:11:15.545655Z",
     "iopub.status.idle": "2024-06-08T15:11:18.797414Z",
     "shell.execute_reply": "2024-06-08T15:11:18.796089Z"
    },
    "papermill": {
     "duration": 3.262819,
     "end_time": "2024-06-08T15:11:18.800565",
     "exception": false,
     "start_time": "2024-06-08T15:11:15.537746",
     "status": "completed"
    },
    "tags": []
   },
   "outputs": [],
   "source": [
    "'''\n",
    "Name: Munis Mamwn Alawneh\n",
    "Student No.:163323\n",
    "\n",
    "'''\n",
    "\n",
    "import pandas as pd \n",
    "import numpy as np  \n",
    "from sklearn.ensemble import RandomForestClassifier  \n",
    "from sklearn.model_selection import train_test_split, GridSearchCV\n",
    "from sklearn.preprocessing import StandardScaler \n",
    "from sklearn.metrics import f1_score\n",
    "import seaborn as sns\n",
    "from sklearn.metrics import confusion_matrix\n",
    "import matplotlib.pyplot as plt\n",
    "import warnings\n",
    "warnings.filterwarnings('ignore')\n",
    "\n",
    "\n",
    "np.random.seed(42)  # Setting the seed for reproducibility\n",
    "    "
   ]
  },
  {
   "cell_type": "code",
   "execution_count": 2,
   "id": "8646dbe3",
   "metadata": {
    "execution": {
     "iopub.execute_input": "2024-06-08T15:11:18.815807Z",
     "iopub.status.busy": "2024-06-08T15:11:18.815239Z",
     "iopub.status.idle": "2024-06-08T15:11:18.911461Z",
     "shell.execute_reply": "2024-06-08T15:11:18.909845Z"
    },
    "papermill": {
     "duration": 0.106899,
     "end_time": "2024-06-08T15:11:18.914192",
     "exception": false,
     "start_time": "2024-06-08T15:11:18.807293",
     "status": "completed"
    },
    "tags": []
   },
   "outputs": [
    {
     "data": {
      "text/html": [
       "<div>\n",
       "<style scoped>\n",
       "    .dataframe tbody tr th:only-of-type {\n",
       "        vertical-align: middle;\n",
       "    }\n",
       "\n",
       "    .dataframe tbody tr th {\n",
       "        vertical-align: top;\n",
       "    }\n",
       "\n",
       "    .dataframe thead th {\n",
       "        text-align: right;\n",
       "    }\n",
       "</style>\n",
       "<table border=\"1\" class=\"dataframe\">\n",
       "  <thead>\n",
       "    <tr style=\"text-align: right;\">\n",
       "      <th></th>\n",
       "      <th>word_freq_make</th>\n",
       "      <th>word_freq_address</th>\n",
       "      <th>word_freq_all</th>\n",
       "      <th>word_freq_3d</th>\n",
       "      <th>word_freq_our</th>\n",
       "      <th>word_freq_over</th>\n",
       "      <th>word_freq_remove</th>\n",
       "      <th>word_freq_internet</th>\n",
       "      <th>word_freq_order</th>\n",
       "      <th>word_freq_mail</th>\n",
       "      <th>...</th>\n",
       "      <th>char_freq_(</th>\n",
       "      <th>char_freq_[</th>\n",
       "      <th>char_freq_!</th>\n",
       "      <th>char_freq_$</th>\n",
       "      <th>char_freq_#</th>\n",
       "      <th>capital_run_length_average</th>\n",
       "      <th>capital_run_length_longest</th>\n",
       "      <th>capital_run_length_total</th>\n",
       "      <th>spam</th>\n",
       "      <th>ID</th>\n",
       "    </tr>\n",
       "  </thead>\n",
       "  <tbody>\n",
       "    <tr>\n",
       "      <th>0</th>\n",
       "      <td>0.00</td>\n",
       "      <td>0.00</td>\n",
       "      <td>1.12</td>\n",
       "      <td>0.0</td>\n",
       "      <td>0.56</td>\n",
       "      <td>0.00</td>\n",
       "      <td>0.00</td>\n",
       "      <td>0.00</td>\n",
       "      <td>0.00</td>\n",
       "      <td>0.56</td>\n",
       "      <td>...</td>\n",
       "      <td>0.101</td>\n",
       "      <td>0.00</td>\n",
       "      <td>0.606</td>\n",
       "      <td>0.000</td>\n",
       "      <td>0.000</td>\n",
       "      <td>2.360</td>\n",
       "      <td>19</td>\n",
       "      <td>144</td>\n",
       "      <td>1</td>\n",
       "      <td>29</td>\n",
       "    </tr>\n",
       "    <tr>\n",
       "      <th>1</th>\n",
       "      <td>0.32</td>\n",
       "      <td>0.00</td>\n",
       "      <td>0.64</td>\n",
       "      <td>0.0</td>\n",
       "      <td>0.32</td>\n",
       "      <td>0.32</td>\n",
       "      <td>0.00</td>\n",
       "      <td>1.61</td>\n",
       "      <td>0.32</td>\n",
       "      <td>0.64</td>\n",
       "      <td>...</td>\n",
       "      <td>0.160</td>\n",
       "      <td>0.00</td>\n",
       "      <td>1.178</td>\n",
       "      <td>0.107</td>\n",
       "      <td>0.000</td>\n",
       "      <td>3.613</td>\n",
       "      <td>63</td>\n",
       "      <td>318</td>\n",
       "      <td>1</td>\n",
       "      <td>3792</td>\n",
       "    </tr>\n",
       "    <tr>\n",
       "      <th>2</th>\n",
       "      <td>0.00</td>\n",
       "      <td>0.00</td>\n",
       "      <td>0.00</td>\n",
       "      <td>0.0</td>\n",
       "      <td>0.34</td>\n",
       "      <td>0.00</td>\n",
       "      <td>0.00</td>\n",
       "      <td>0.34</td>\n",
       "      <td>0.00</td>\n",
       "      <td>1.70</td>\n",
       "      <td>...</td>\n",
       "      <td>0.055</td>\n",
       "      <td>0.11</td>\n",
       "      <td>0.000</td>\n",
       "      <td>0.000</td>\n",
       "      <td>0.000</td>\n",
       "      <td>1.421</td>\n",
       "      <td>8</td>\n",
       "      <td>91</td>\n",
       "      <td>0</td>\n",
       "      <td>1317</td>\n",
       "    </tr>\n",
       "    <tr>\n",
       "      <th>3</th>\n",
       "      <td>0.19</td>\n",
       "      <td>0.00</td>\n",
       "      <td>0.00</td>\n",
       "      <td>0.0</td>\n",
       "      <td>0.00</td>\n",
       "      <td>0.00</td>\n",
       "      <td>0.00</td>\n",
       "      <td>0.00</td>\n",
       "      <td>0.00</td>\n",
       "      <td>0.00</td>\n",
       "      <td>...</td>\n",
       "      <td>0.108</td>\n",
       "      <td>0.00</td>\n",
       "      <td>0.000</td>\n",
       "      <td>0.108</td>\n",
       "      <td>0.000</td>\n",
       "      <td>2.634</td>\n",
       "      <td>23</td>\n",
       "      <td>303</td>\n",
       "      <td>0</td>\n",
       "      <td>3309</td>\n",
       "    </tr>\n",
       "    <tr>\n",
       "      <th>4</th>\n",
       "      <td>0.00</td>\n",
       "      <td>0.00</td>\n",
       "      <td>0.00</td>\n",
       "      <td>0.0</td>\n",
       "      <td>0.00</td>\n",
       "      <td>0.00</td>\n",
       "      <td>0.00</td>\n",
       "      <td>0.00</td>\n",
       "      <td>0.00</td>\n",
       "      <td>0.00</td>\n",
       "      <td>...</td>\n",
       "      <td>0.746</td>\n",
       "      <td>0.00</td>\n",
       "      <td>0.000</td>\n",
       "      <td>0.000</td>\n",
       "      <td>0.000</td>\n",
       "      <td>1.687</td>\n",
       "      <td>4</td>\n",
       "      <td>27</td>\n",
       "      <td>0</td>\n",
       "      <td>3342</td>\n",
       "    </tr>\n",
       "    <tr>\n",
       "      <th>...</th>\n",
       "      <td>...</td>\n",
       "      <td>...</td>\n",
       "      <td>...</td>\n",
       "      <td>...</td>\n",
       "      <td>...</td>\n",
       "      <td>...</td>\n",
       "      <td>...</td>\n",
       "      <td>...</td>\n",
       "      <td>...</td>\n",
       "      <td>...</td>\n",
       "      <td>...</td>\n",
       "      <td>...</td>\n",
       "      <td>...</td>\n",
       "      <td>...</td>\n",
       "      <td>...</td>\n",
       "      <td>...</td>\n",
       "      <td>...</td>\n",
       "      <td>...</td>\n",
       "      <td>...</td>\n",
       "      <td>...</td>\n",
       "      <td>...</td>\n",
       "    </tr>\n",
       "    <tr>\n",
       "      <th>3215</th>\n",
       "      <td>0.00</td>\n",
       "      <td>0.00</td>\n",
       "      <td>4.00</td>\n",
       "      <td>0.0</td>\n",
       "      <td>0.00</td>\n",
       "      <td>0.00</td>\n",
       "      <td>0.00</td>\n",
       "      <td>0.00</td>\n",
       "      <td>0.00</td>\n",
       "      <td>0.00</td>\n",
       "      <td>...</td>\n",
       "      <td>0.000</td>\n",
       "      <td>0.00</td>\n",
       "      <td>0.613</td>\n",
       "      <td>0.000</td>\n",
       "      <td>0.000</td>\n",
       "      <td>1.000</td>\n",
       "      <td>1</td>\n",
       "      <td>14</td>\n",
       "      <td>0</td>\n",
       "      <td>1105</td>\n",
       "    </tr>\n",
       "    <tr>\n",
       "      <th>3216</th>\n",
       "      <td>0.00</td>\n",
       "      <td>0.00</td>\n",
       "      <td>0.00</td>\n",
       "      <td>0.0</td>\n",
       "      <td>4.16</td>\n",
       "      <td>0.00</td>\n",
       "      <td>0.00</td>\n",
       "      <td>0.00</td>\n",
       "      <td>0.00</td>\n",
       "      <td>0.00</td>\n",
       "      <td>...</td>\n",
       "      <td>0.689</td>\n",
       "      <td>0.00</td>\n",
       "      <td>0.689</td>\n",
       "      <td>0.000</td>\n",
       "      <td>0.000</td>\n",
       "      <td>1.300</td>\n",
       "      <td>4</td>\n",
       "      <td>13</td>\n",
       "      <td>0</td>\n",
       "      <td>4440</td>\n",
       "    </tr>\n",
       "    <tr>\n",
       "      <th>3217</th>\n",
       "      <td>0.00</td>\n",
       "      <td>0.00</td>\n",
       "      <td>0.00</td>\n",
       "      <td>0.0</td>\n",
       "      <td>1.11</td>\n",
       "      <td>0.00</td>\n",
       "      <td>0.00</td>\n",
       "      <td>0.00</td>\n",
       "      <td>0.00</td>\n",
       "      <td>0.00</td>\n",
       "      <td>...</td>\n",
       "      <td>0.000</td>\n",
       "      <td>0.00</td>\n",
       "      <td>0.784</td>\n",
       "      <td>0.000</td>\n",
       "      <td>0.000</td>\n",
       "      <td>5.687</td>\n",
       "      <td>39</td>\n",
       "      <td>91</td>\n",
       "      <td>1</td>\n",
       "      <td>51</td>\n",
       "    </tr>\n",
       "    <tr>\n",
       "      <th>3218</th>\n",
       "      <td>0.00</td>\n",
       "      <td>0.57</td>\n",
       "      <td>0.57</td>\n",
       "      <td>0.0</td>\n",
       "      <td>1.14</td>\n",
       "      <td>0.57</td>\n",
       "      <td>2.28</td>\n",
       "      <td>0.00</td>\n",
       "      <td>0.00</td>\n",
       "      <td>0.57</td>\n",
       "      <td>...</td>\n",
       "      <td>0.081</td>\n",
       "      <td>0.00</td>\n",
       "      <td>0.487</td>\n",
       "      <td>0.000</td>\n",
       "      <td>0.081</td>\n",
       "      <td>16.217</td>\n",
       "      <td>147</td>\n",
       "      <td>373</td>\n",
       "      <td>1</td>\n",
       "      <td>2189</td>\n",
       "    </tr>\n",
       "    <tr>\n",
       "      <th>3219</th>\n",
       "      <td>0.00</td>\n",
       "      <td>0.00</td>\n",
       "      <td>0.00</td>\n",
       "      <td>0.0</td>\n",
       "      <td>0.00</td>\n",
       "      <td>0.00</td>\n",
       "      <td>0.00</td>\n",
       "      <td>0.00</td>\n",
       "      <td>0.00</td>\n",
       "      <td>0.00</td>\n",
       "      <td>...</td>\n",
       "      <td>0.484</td>\n",
       "      <td>0.00</td>\n",
       "      <td>0.484</td>\n",
       "      <td>0.000</td>\n",
       "      <td>0.000</td>\n",
       "      <td>2.500</td>\n",
       "      <td>15</td>\n",
       "      <td>65</td>\n",
       "      <td>0</td>\n",
       "      <td>38</td>\n",
       "    </tr>\n",
       "  </tbody>\n",
       "</table>\n",
       "<p>3220 rows × 59 columns</p>\n",
       "</div>"
      ],
      "text/plain": [
       "      word_freq_make  word_freq_address  word_freq_all  word_freq_3d  \\\n",
       "0               0.00               0.00           1.12           0.0   \n",
       "1               0.32               0.00           0.64           0.0   \n",
       "2               0.00               0.00           0.00           0.0   \n",
       "3               0.19               0.00           0.00           0.0   \n",
       "4               0.00               0.00           0.00           0.0   \n",
       "...              ...                ...            ...           ...   \n",
       "3215            0.00               0.00           4.00           0.0   \n",
       "3216            0.00               0.00           0.00           0.0   \n",
       "3217            0.00               0.00           0.00           0.0   \n",
       "3218            0.00               0.57           0.57           0.0   \n",
       "3219            0.00               0.00           0.00           0.0   \n",
       "\n",
       "      word_freq_our  word_freq_over  word_freq_remove  word_freq_internet  \\\n",
       "0              0.56            0.00              0.00                0.00   \n",
       "1              0.32            0.32              0.00                1.61   \n",
       "2              0.34            0.00              0.00                0.34   \n",
       "3              0.00            0.00              0.00                0.00   \n",
       "4              0.00            0.00              0.00                0.00   \n",
       "...             ...             ...               ...                 ...   \n",
       "3215           0.00            0.00              0.00                0.00   \n",
       "3216           4.16            0.00              0.00                0.00   \n",
       "3217           1.11            0.00              0.00                0.00   \n",
       "3218           1.14            0.57              2.28                0.00   \n",
       "3219           0.00            0.00              0.00                0.00   \n",
       "\n",
       "      word_freq_order  word_freq_mail  ...  char_freq_(  char_freq_[  \\\n",
       "0                0.00            0.56  ...        0.101         0.00   \n",
       "1                0.32            0.64  ...        0.160         0.00   \n",
       "2                0.00            1.70  ...        0.055         0.11   \n",
       "3                0.00            0.00  ...        0.108         0.00   \n",
       "4                0.00            0.00  ...        0.746         0.00   \n",
       "...               ...             ...  ...          ...          ...   \n",
       "3215             0.00            0.00  ...        0.000         0.00   \n",
       "3216             0.00            0.00  ...        0.689         0.00   \n",
       "3217             0.00            0.00  ...        0.000         0.00   \n",
       "3218             0.00            0.57  ...        0.081         0.00   \n",
       "3219             0.00            0.00  ...        0.484         0.00   \n",
       "\n",
       "      char_freq_!  char_freq_$  char_freq_#  capital_run_length_average  \\\n",
       "0           0.606        0.000        0.000                       2.360   \n",
       "1           1.178        0.107        0.000                       3.613   \n",
       "2           0.000        0.000        0.000                       1.421   \n",
       "3           0.000        0.108        0.000                       2.634   \n",
       "4           0.000        0.000        0.000                       1.687   \n",
       "...           ...          ...          ...                         ...   \n",
       "3215        0.613        0.000        0.000                       1.000   \n",
       "3216        0.689        0.000        0.000                       1.300   \n",
       "3217        0.784        0.000        0.000                       5.687   \n",
       "3218        0.487        0.000        0.081                      16.217   \n",
       "3219        0.484        0.000        0.000                       2.500   \n",
       "\n",
       "      capital_run_length_longest  capital_run_length_total  spam    ID  \n",
       "0                             19                       144     1    29  \n",
       "1                             63                       318     1  3792  \n",
       "2                              8                        91     0  1317  \n",
       "3                             23                       303     0  3309  \n",
       "4                              4                        27     0  3342  \n",
       "...                          ...                       ...   ...   ...  \n",
       "3215                           1                        14     0  1105  \n",
       "3216                           4                        13     0  4440  \n",
       "3217                          39                        91     1    51  \n",
       "3218                         147                       373     1  2189  \n",
       "3219                          15                        65     0    38  \n",
       "\n",
       "[3220 rows x 59 columns]"
      ]
     },
     "execution_count": 2,
     "metadata": {},
     "output_type": "execute_result"
    }
   ],
   "source": [
    "PATHtr = '/kaggle/input/just-ai-249-machine-learning-lab-competition/spambase_train.csv'\n",
    "\n",
    "df = pd.read_csv(PATHtr)\n",
    "df"
   ]
  },
  {
   "cell_type": "code",
   "execution_count": 3,
   "id": "799a212f",
   "metadata": {
    "execution": {
     "iopub.execute_input": "2024-06-08T15:11:18.930457Z",
     "iopub.status.busy": "2024-06-08T15:11:18.929926Z",
     "iopub.status.idle": "2024-06-08T15:11:18.983457Z",
     "shell.execute_reply": "2024-06-08T15:11:18.982242Z"
    },
    "papermill": {
     "duration": 0.065506,
     "end_time": "2024-06-08T15:11:18.986824",
     "exception": false,
     "start_time": "2024-06-08T15:11:18.921318",
     "status": "completed"
    },
    "tags": []
   },
   "outputs": [
    {
     "data": {
      "text/html": [
       "<div>\n",
       "<style scoped>\n",
       "    .dataframe tbody tr th:only-of-type {\n",
       "        vertical-align: middle;\n",
       "    }\n",
       "\n",
       "    .dataframe tbody tr th {\n",
       "        vertical-align: top;\n",
       "    }\n",
       "\n",
       "    .dataframe thead th {\n",
       "        text-align: right;\n",
       "    }\n",
       "</style>\n",
       "<table border=\"1\" class=\"dataframe\">\n",
       "  <thead>\n",
       "    <tr style=\"text-align: right;\">\n",
       "      <th></th>\n",
       "      <th>word_freq_make</th>\n",
       "      <th>word_freq_address</th>\n",
       "      <th>word_freq_all</th>\n",
       "      <th>word_freq_3d</th>\n",
       "      <th>word_freq_our</th>\n",
       "      <th>word_freq_over</th>\n",
       "      <th>word_freq_remove</th>\n",
       "      <th>word_freq_internet</th>\n",
       "      <th>word_freq_order</th>\n",
       "      <th>word_freq_mail</th>\n",
       "      <th>...</th>\n",
       "      <th>char_freq_;</th>\n",
       "      <th>char_freq_(</th>\n",
       "      <th>char_freq_[</th>\n",
       "      <th>char_freq_!</th>\n",
       "      <th>char_freq_$</th>\n",
       "      <th>char_freq_#</th>\n",
       "      <th>capital_run_length_average</th>\n",
       "      <th>capital_run_length_longest</th>\n",
       "      <th>capital_run_length_total</th>\n",
       "      <th>ID</th>\n",
       "    </tr>\n",
       "  </thead>\n",
       "  <tbody>\n",
       "    <tr>\n",
       "      <th>0</th>\n",
       "      <td>0.00</td>\n",
       "      <td>0.00</td>\n",
       "      <td>0.00</td>\n",
       "      <td>0.00</td>\n",
       "      <td>0.00</td>\n",
       "      <td>0.00</td>\n",
       "      <td>0.00</td>\n",
       "      <td>0.00</td>\n",
       "      <td>0.00</td>\n",
       "      <td>0.00</td>\n",
       "      <td>...</td>\n",
       "      <td>0.000</td>\n",
       "      <td>0.000</td>\n",
       "      <td>0.000</td>\n",
       "      <td>0.000</td>\n",
       "      <td>0.000</td>\n",
       "      <td>0.000</td>\n",
       "      <td>1.470</td>\n",
       "      <td>5</td>\n",
       "      <td>25</td>\n",
       "      <td>1981</td>\n",
       "    </tr>\n",
       "    <tr>\n",
       "      <th>1</th>\n",
       "      <td>0.00</td>\n",
       "      <td>0.00</td>\n",
       "      <td>0.00</td>\n",
       "      <td>0.00</td>\n",
       "      <td>0.00</td>\n",
       "      <td>0.00</td>\n",
       "      <td>0.00</td>\n",
       "      <td>0.00</td>\n",
       "      <td>0.00</td>\n",
       "      <td>0.00</td>\n",
       "      <td>...</td>\n",
       "      <td>0.000</td>\n",
       "      <td>0.000</td>\n",
       "      <td>0.000</td>\n",
       "      <td>0.000</td>\n",
       "      <td>0.000</td>\n",
       "      <td>0.555</td>\n",
       "      <td>3.000</td>\n",
       "      <td>14</td>\n",
       "      <td>348</td>\n",
       "      <td>1940</td>\n",
       "    </tr>\n",
       "    <tr>\n",
       "      <th>2</th>\n",
       "      <td>0.00</td>\n",
       "      <td>0.00</td>\n",
       "      <td>0.00</td>\n",
       "      <td>0.00</td>\n",
       "      <td>0.53</td>\n",
       "      <td>0.00</td>\n",
       "      <td>0.00</td>\n",
       "      <td>0.26</td>\n",
       "      <td>0.00</td>\n",
       "      <td>0.00</td>\n",
       "      <td>...</td>\n",
       "      <td>0.000</td>\n",
       "      <td>0.000</td>\n",
       "      <td>0.000</td>\n",
       "      <td>0.555</td>\n",
       "      <td>0.000</td>\n",
       "      <td>1.157</td>\n",
       "      <td>19.260</td>\n",
       "      <td>107</td>\n",
       "      <td>886</td>\n",
       "      <td>4260</td>\n",
       "    </tr>\n",
       "    <tr>\n",
       "      <th>3</th>\n",
       "      <td>0.09</td>\n",
       "      <td>0.19</td>\n",
       "      <td>0.98</td>\n",
       "      <td>0.00</td>\n",
       "      <td>0.78</td>\n",
       "      <td>0.78</td>\n",
       "      <td>0.49</td>\n",
       "      <td>0.00</td>\n",
       "      <td>0.78</td>\n",
       "      <td>0.19</td>\n",
       "      <td>...</td>\n",
       "      <td>0.000</td>\n",
       "      <td>0.102</td>\n",
       "      <td>0.000</td>\n",
       "      <td>0.393</td>\n",
       "      <td>0.145</td>\n",
       "      <td>0.014</td>\n",
       "      <td>8.323</td>\n",
       "      <td>669</td>\n",
       "      <td>1415</td>\n",
       "      <td>3200</td>\n",
       "    </tr>\n",
       "    <tr>\n",
       "      <th>4</th>\n",
       "      <td>0.00</td>\n",
       "      <td>0.42</td>\n",
       "      <td>0.42</td>\n",
       "      <td>0.00</td>\n",
       "      <td>0.00</td>\n",
       "      <td>0.00</td>\n",
       "      <td>0.00</td>\n",
       "      <td>0.00</td>\n",
       "      <td>0.00</td>\n",
       "      <td>0.00</td>\n",
       "      <td>...</td>\n",
       "      <td>0.000</td>\n",
       "      <td>0.075</td>\n",
       "      <td>0.000</td>\n",
       "      <td>0.600</td>\n",
       "      <td>0.300</td>\n",
       "      <td>0.000</td>\n",
       "      <td>4.020</td>\n",
       "      <td>82</td>\n",
       "      <td>197</td>\n",
       "      <td>3082</td>\n",
       "    </tr>\n",
       "    <tr>\n",
       "      <th>...</th>\n",
       "      <td>...</td>\n",
       "      <td>...</td>\n",
       "      <td>...</td>\n",
       "      <td>...</td>\n",
       "      <td>...</td>\n",
       "      <td>...</td>\n",
       "      <td>...</td>\n",
       "      <td>...</td>\n",
       "      <td>...</td>\n",
       "      <td>...</td>\n",
       "      <td>...</td>\n",
       "      <td>...</td>\n",
       "      <td>...</td>\n",
       "      <td>...</td>\n",
       "      <td>...</td>\n",
       "      <td>...</td>\n",
       "      <td>...</td>\n",
       "      <td>...</td>\n",
       "      <td>...</td>\n",
       "      <td>...</td>\n",
       "      <td>...</td>\n",
       "    </tr>\n",
       "    <tr>\n",
       "      <th>1376</th>\n",
       "      <td>0.00</td>\n",
       "      <td>0.00</td>\n",
       "      <td>0.00</td>\n",
       "      <td>0.00</td>\n",
       "      <td>0.00</td>\n",
       "      <td>0.00</td>\n",
       "      <td>1.04</td>\n",
       "      <td>0.00</td>\n",
       "      <td>0.00</td>\n",
       "      <td>0.00</td>\n",
       "      <td>...</td>\n",
       "      <td>0.062</td>\n",
       "      <td>0.248</td>\n",
       "      <td>0.000</td>\n",
       "      <td>0.621</td>\n",
       "      <td>0.062</td>\n",
       "      <td>0.062</td>\n",
       "      <td>3.902</td>\n",
       "      <td>59</td>\n",
       "      <td>160</td>\n",
       "      <td>2757</td>\n",
       "    </tr>\n",
       "    <tr>\n",
       "      <th>1377</th>\n",
       "      <td>0.00</td>\n",
       "      <td>0.00</td>\n",
       "      <td>0.00</td>\n",
       "      <td>0.00</td>\n",
       "      <td>0.00</td>\n",
       "      <td>0.00</td>\n",
       "      <td>0.00</td>\n",
       "      <td>0.00</td>\n",
       "      <td>0.00</td>\n",
       "      <td>0.00</td>\n",
       "      <td>...</td>\n",
       "      <td>0.000</td>\n",
       "      <td>0.098</td>\n",
       "      <td>0.000</td>\n",
       "      <td>0.098</td>\n",
       "      <td>0.000</td>\n",
       "      <td>0.000</td>\n",
       "      <td>1.627</td>\n",
       "      <td>15</td>\n",
       "      <td>70</td>\n",
       "      <td>1986</td>\n",
       "    </tr>\n",
       "    <tr>\n",
       "      <th>1378</th>\n",
       "      <td>0.05</td>\n",
       "      <td>0.00</td>\n",
       "      <td>0.05</td>\n",
       "      <td>0.00</td>\n",
       "      <td>0.30</td>\n",
       "      <td>0.00</td>\n",
       "      <td>0.00</td>\n",
       "      <td>0.00</td>\n",
       "      <td>0.51</td>\n",
       "      <td>0.00</td>\n",
       "      <td>...</td>\n",
       "      <td>0.209</td>\n",
       "      <td>0.158</td>\n",
       "      <td>0.050</td>\n",
       "      <td>0.000</td>\n",
       "      <td>0.014</td>\n",
       "      <td>0.000</td>\n",
       "      <td>3.764</td>\n",
       "      <td>85</td>\n",
       "      <td>1423</td>\n",
       "      <td>2972</td>\n",
       "    </tr>\n",
       "    <tr>\n",
       "      <th>1379</th>\n",
       "      <td>0.64</td>\n",
       "      <td>0.00</td>\n",
       "      <td>0.25</td>\n",
       "      <td>0.00</td>\n",
       "      <td>0.00</td>\n",
       "      <td>0.38</td>\n",
       "      <td>0.00</td>\n",
       "      <td>0.00</td>\n",
       "      <td>0.00</td>\n",
       "      <td>0.25</td>\n",
       "      <td>...</td>\n",
       "      <td>0.000</td>\n",
       "      <td>0.161</td>\n",
       "      <td>0.000</td>\n",
       "      <td>1.082</td>\n",
       "      <td>0.299</td>\n",
       "      <td>0.092</td>\n",
       "      <td>5.274</td>\n",
       "      <td>146</td>\n",
       "      <td>981</td>\n",
       "      <td>3568</td>\n",
       "    </tr>\n",
       "    <tr>\n",
       "      <th>1380</th>\n",
       "      <td>0.00</td>\n",
       "      <td>0.00</td>\n",
       "      <td>0.59</td>\n",
       "      <td>0.11</td>\n",
       "      <td>0.00</td>\n",
       "      <td>0.00</td>\n",
       "      <td>0.00</td>\n",
       "      <td>0.00</td>\n",
       "      <td>0.11</td>\n",
       "      <td>0.23</td>\n",
       "      <td>...</td>\n",
       "      <td>0.227</td>\n",
       "      <td>0.322</td>\n",
       "      <td>0.113</td>\n",
       "      <td>0.056</td>\n",
       "      <td>0.075</td>\n",
       "      <td>0.000</td>\n",
       "      <td>2.546</td>\n",
       "      <td>38</td>\n",
       "      <td>601</td>\n",
       "      <td>1310</td>\n",
       "    </tr>\n",
       "  </tbody>\n",
       "</table>\n",
       "<p>1381 rows × 58 columns</p>\n",
       "</div>"
      ],
      "text/plain": [
       "      word_freq_make  word_freq_address  word_freq_all  word_freq_3d  \\\n",
       "0               0.00               0.00           0.00          0.00   \n",
       "1               0.00               0.00           0.00          0.00   \n",
       "2               0.00               0.00           0.00          0.00   \n",
       "3               0.09               0.19           0.98          0.00   \n",
       "4               0.00               0.42           0.42          0.00   \n",
       "...              ...                ...            ...           ...   \n",
       "1376            0.00               0.00           0.00          0.00   \n",
       "1377            0.00               0.00           0.00          0.00   \n",
       "1378            0.05               0.00           0.05          0.00   \n",
       "1379            0.64               0.00           0.25          0.00   \n",
       "1380            0.00               0.00           0.59          0.11   \n",
       "\n",
       "      word_freq_our  word_freq_over  word_freq_remove  word_freq_internet  \\\n",
       "0              0.00            0.00              0.00                0.00   \n",
       "1              0.00            0.00              0.00                0.00   \n",
       "2              0.53            0.00              0.00                0.26   \n",
       "3              0.78            0.78              0.49                0.00   \n",
       "4              0.00            0.00              0.00                0.00   \n",
       "...             ...             ...               ...                 ...   \n",
       "1376           0.00            0.00              1.04                0.00   \n",
       "1377           0.00            0.00              0.00                0.00   \n",
       "1378           0.30            0.00              0.00                0.00   \n",
       "1379           0.00            0.38              0.00                0.00   \n",
       "1380           0.00            0.00              0.00                0.00   \n",
       "\n",
       "      word_freq_order  word_freq_mail  ...  char_freq_;  char_freq_(  \\\n",
       "0                0.00            0.00  ...        0.000        0.000   \n",
       "1                0.00            0.00  ...        0.000        0.000   \n",
       "2                0.00            0.00  ...        0.000        0.000   \n",
       "3                0.78            0.19  ...        0.000        0.102   \n",
       "4                0.00            0.00  ...        0.000        0.075   \n",
       "...               ...             ...  ...          ...          ...   \n",
       "1376             0.00            0.00  ...        0.062        0.248   \n",
       "1377             0.00            0.00  ...        0.000        0.098   \n",
       "1378             0.51            0.00  ...        0.209        0.158   \n",
       "1379             0.00            0.25  ...        0.000        0.161   \n",
       "1380             0.11            0.23  ...        0.227        0.322   \n",
       "\n",
       "      char_freq_[  char_freq_!  char_freq_$  char_freq_#  \\\n",
       "0           0.000        0.000        0.000        0.000   \n",
       "1           0.000        0.000        0.000        0.555   \n",
       "2           0.000        0.555        0.000        1.157   \n",
       "3           0.000        0.393        0.145        0.014   \n",
       "4           0.000        0.600        0.300        0.000   \n",
       "...           ...          ...          ...          ...   \n",
       "1376        0.000        0.621        0.062        0.062   \n",
       "1377        0.000        0.098        0.000        0.000   \n",
       "1378        0.050        0.000        0.014        0.000   \n",
       "1379        0.000        1.082        0.299        0.092   \n",
       "1380        0.113        0.056        0.075        0.000   \n",
       "\n",
       "      capital_run_length_average  capital_run_length_longest  \\\n",
       "0                          1.470                           5   \n",
       "1                          3.000                          14   \n",
       "2                         19.260                         107   \n",
       "3                          8.323                         669   \n",
       "4                          4.020                          82   \n",
       "...                          ...                         ...   \n",
       "1376                       3.902                          59   \n",
       "1377                       1.627                          15   \n",
       "1378                       3.764                          85   \n",
       "1379                       5.274                         146   \n",
       "1380                       2.546                          38   \n",
       "\n",
       "      capital_run_length_total    ID  \n",
       "0                           25  1981  \n",
       "1                          348  1940  \n",
       "2                          886  4260  \n",
       "3                         1415  3200  \n",
       "4                          197  3082  \n",
       "...                        ...   ...  \n",
       "1376                       160  2757  \n",
       "1377                        70  1986  \n",
       "1378                      1423  2972  \n",
       "1379                       981  3568  \n",
       "1380                       601  1310  \n",
       "\n",
       "[1381 rows x 58 columns]"
      ]
     },
     "execution_count": 3,
     "metadata": {},
     "output_type": "execute_result"
    }
   ],
   "source": [
    "PATHts = '/kaggle/input/just-ai-249-machine-learning-lab-competition/spambase_test.csv'\n",
    "\n",
    "test_df = pd.read_csv(PATHts)\n",
    "test_df"
   ]
  },
  {
   "cell_type": "code",
   "execution_count": 4,
   "id": "920f2c39",
   "metadata": {
    "execution": {
     "iopub.execute_input": "2024-06-08T15:11:19.005122Z",
     "iopub.status.busy": "2024-06-08T15:11:19.004717Z",
     "iopub.status.idle": "2024-06-08T15:11:19.022104Z",
     "shell.execute_reply": "2024-06-08T15:11:19.020875Z"
    },
    "papermill": {
     "duration": 0.028937,
     "end_time": "2024-06-08T15:11:19.024622",
     "exception": false,
     "start_time": "2024-06-08T15:11:18.995685",
     "status": "completed"
    },
    "tags": []
   },
   "outputs": [
    {
     "data": {
      "text/plain": [
       "(2898, 57)"
      ]
     },
     "execution_count": 4,
     "metadata": {},
     "output_type": "execute_result"
    }
   ],
   "source": [
    "X = df.drop(columns=['spam', 'ID'], axis=1)  # Dropping the 'spam' and 'ID' columns from the features\n",
    "y = df.spam  \n",
    "\n",
    "Xt = test_df.drop(columns=['ID'], axis=1)\n",
    "\n",
    "# Splitting the data into 0.9 training and 0.1 validation\n",
    "X_tra, X_val, y_train, y_val = train_test_split(X, y, test_size=0.1, random_state=42)\n",
    "X_tra.shape"
   ]
  },
  {
   "cell_type": "markdown",
   "id": "402d48dc",
   "metadata": {
    "papermill": {
     "duration": 0.00928,
     "end_time": "2024-06-08T15:11:19.042725",
     "exception": false,
     "start_time": "2024-06-08T15:11:19.033445",
     "status": "completed"
    },
    "tags": []
   },
   "source": [
    "# Data preprocessing"
   ]
  },
  {
   "cell_type": "markdown",
   "id": "5c4b2091",
   "metadata": {
    "papermill": {
     "duration": 0.008686,
     "end_time": "2024-06-08T15:11:19.059794",
     "exception": false,
     "start_time": "2024-06-08T15:11:19.051108",
     "status": "completed"
    },
    "tags": []
   },
   "source": [
    "## Training and validation data scaling"
   ]
  },
  {
   "cell_type": "code",
   "execution_count": 5,
   "id": "8f5f41fc",
   "metadata": {
    "execution": {
     "iopub.execute_input": "2024-06-08T15:11:19.077635Z",
     "iopub.status.busy": "2024-06-08T15:11:19.077219Z",
     "iopub.status.idle": "2024-06-08T15:11:19.101036Z",
     "shell.execute_reply": "2024-06-08T15:11:19.099883Z"
    },
    "papermill": {
     "duration": 0.036788,
     "end_time": "2024-06-08T15:11:19.104642",
     "exception": false,
     "start_time": "2024-06-08T15:11:19.067854",
     "status": "completed"
    },
    "tags": []
   },
   "outputs": [
    {
     "data": {
      "text/plain": [
       "(2898, 57)"
      ]
     },
     "execution_count": 5,
     "metadata": {},
     "output_type": "execute_result"
    }
   ],
   "source": [
    "# Create an instance of StandardScaler\n",
    "scaler = StandardScaler()\n",
    "\n",
    "X_train_scaled = scaler.fit_transform(X_tra)\n",
    "\n",
    "X_val_scaled = scaler.transform(X_val)\n",
    "X_train_scaled.shape"
   ]
  },
  {
   "cell_type": "markdown",
   "id": "306f64fd",
   "metadata": {
    "papermill": {
     "duration": 0.007707,
     "end_time": "2024-06-08T15:11:19.122820",
     "exception": false,
     "start_time": "2024-06-08T15:11:19.115113",
     "status": "completed"
    },
    "tags": []
   },
   "source": [
    "## Full data scaling"
   ]
  },
  {
   "cell_type": "code",
   "execution_count": 6,
   "id": "7c594d0b",
   "metadata": {
    "execution": {
     "iopub.execute_input": "2024-06-08T15:11:19.143907Z",
     "iopub.status.busy": "2024-06-08T15:11:19.142908Z",
     "iopub.status.idle": "2024-06-08T15:11:19.162633Z",
     "shell.execute_reply": "2024-06-08T15:11:19.161518Z"
    },
    "papermill": {
     "duration": 0.031766,
     "end_time": "2024-06-08T15:11:19.165116",
     "exception": false,
     "start_time": "2024-06-08T15:11:19.133350",
     "status": "completed"
    },
    "tags": []
   },
   "outputs": [
    {
     "data": {
      "text/plain": [
       "(3220, 57)"
      ]
     },
     "execution_count": 6,
     "metadata": {},
     "output_type": "execute_result"
    }
   ],
   "source": [
    "scaler2 = StandardScaler()\n",
    "\n",
    "X_train = scaler2.fit_transform(X)\n",
    "\n",
    "\n",
    "X_test = scaler2.transform(Xt)\n",
    "X_train.shape"
   ]
  },
  {
   "cell_type": "markdown",
   "id": "2772e870",
   "metadata": {
    "papermill": {
     "duration": 0.007663,
     "end_time": "2024-06-08T15:11:19.181052",
     "exception": false,
     "start_time": "2024-06-08T15:11:19.173389",
     "status": "completed"
    },
    "tags": []
   },
   "source": [
    "# Default model training for feature importance extraction"
   ]
  },
  {
   "cell_type": "code",
   "execution_count": 7,
   "id": "3de72a48",
   "metadata": {
    "execution": {
     "iopub.execute_input": "2024-06-08T15:11:19.198382Z",
     "iopub.status.busy": "2024-06-08T15:11:19.197983Z",
     "iopub.status.idle": "2024-06-08T15:11:19.891387Z",
     "shell.execute_reply": "2024-06-08T15:11:19.889878Z"
    },
    "papermill": {
     "duration": 0.705519,
     "end_time": "2024-06-08T15:11:19.894366",
     "exception": false,
     "start_time": "2024-06-08T15:11:19.188847",
     "status": "completed"
    },
    "tags": []
   },
   "outputs": [],
   "source": [
    "rf_model = RandomForestClassifier(random_state=42)\n",
    "\n",
    "\n",
    "rf_model.fit(X_train_scaled, y_train)\n",
    "\n",
    "\n",
    "feature_importances = rf_model.feature_importances_\n"
   ]
  },
  {
   "cell_type": "markdown",
   "id": "4bece5b2",
   "metadata": {
    "papermill": {
     "duration": 0.00752,
     "end_time": "2024-06-08T15:11:19.909838",
     "exception": false,
     "start_time": "2024-06-08T15:11:19.902318",
     "status": "completed"
    },
    "tags": []
   },
   "source": [
    "## Feature importance  "
   ]
  },
  {
   "cell_type": "code",
   "execution_count": 8,
   "id": "89273171",
   "metadata": {
    "execution": {
     "iopub.execute_input": "2024-06-08T15:11:19.927372Z",
     "iopub.status.busy": "2024-06-08T15:11:19.927010Z",
     "iopub.status.idle": "2024-06-08T15:11:20.853211Z",
     "shell.execute_reply": "2024-06-08T15:11:20.852045Z"
    },
    "papermill": {
     "duration": 0.939656,
     "end_time": "2024-06-08T15:11:20.857403",
     "exception": false,
     "start_time": "2024-06-08T15:11:19.917747",
     "status": "completed"
    },
    "tags": []
   },
   "outputs": [
    {
     "data": {
      "image/png": "[encoded data removed]",
      "text/plain": [
       "<Figure size 1500x2000 with 1 Axes>"
      ]
     },
     "metadata": {},
     "output_type": "display_data"
    }
   ],
   "source": [
    "# This plot here helps visualizing the importance of each feature helps to understand \n",
    "# which features are contributing the most to the predictions. \n",
    "\n",
    "feature_importances = rf_model.feature_importances_\n",
    "sorted_indices = np.argsort(feature_importances)[::-1]\n",
    "top_sorted_indices = sorted_indices[:]\n",
    "top_features_names = X.columns[top_sorted_indices]\n",
    "\n",
    "plt.figure(figsize=(15, 20))\n",
    "plt.barh(range(len(top_features_names)), feature_importances[top_sorted_indices], align='center')\n",
    "plt.yticks(range(len(top_features_names)), top_features_names)\n",
    "plt.xlabel('Feature Importance')\n",
    "plt.title('Top 57 Feature Importances in the Random Forest Classifier')\n",
    "plt.gca().invert_yaxis() \n",
    "plt.show()\n"
   ]
  },
  {
   "cell_type": "markdown",
   "id": "c0e57fd7",
   "metadata": {
    "papermill": {
     "duration": 0.010646,
     "end_time": "2024-06-08T15:11:20.878823",
     "exception": false,
     "start_time": "2024-06-08T15:11:20.868177",
     "status": "completed"
    },
    "tags": []
   },
   "source": [
    "# Data slicing depending on the selected features "
   ]
  },
  {
   "cell_type": "markdown",
   "id": "4ede37a7",
   "metadata": {
    "papermill": {
     "duration": 0.01005,
     "end_time": "2024-06-08T15:11:20.899269",
     "exception": false,
     "start_time": "2024-06-08T15:11:20.889219",
     "status": "completed"
    },
    "tags": []
   },
   "source": [
    "## Slicing the validation data"
   ]
  },
  {
   "cell_type": "code",
   "execution_count": 9,
   "id": "485e89a3",
   "metadata": {
    "execution": {
     "iopub.execute_input": "2024-06-08T15:11:20.921942Z",
     "iopub.status.busy": "2024-06-08T15:11:20.921559Z",
     "iopub.status.idle": "2024-06-08T15:11:20.931165Z",
     "shell.execute_reply": "2024-06-08T15:11:20.930098Z"
    },
    "papermill": {
     "duration": 0.024038,
     "end_time": "2024-06-08T15:11:20.933410",
     "exception": false,
     "start_time": "2024-06-08T15:11:20.909372",
     "status": "completed"
    },
    "tags": []
   },
   "outputs": [
    {
     "data": {
      "text/plain": [
       "(2898, 54)"
      ]
     },
     "execution_count": 9,
     "metadata": {},
     "output_type": "execute_result"
    }
   ],
   "source": [
    "# Define the number of top features to select to reduce overfitting\n",
    "num_top_features = 54\n",
    "\n",
    "top_feature_indices = np.argsort(feature_importances)[::-1][:num_top_features]\n",
    "\n",
    "selected_features = X.columns[top_feature_indices]\n",
    "\n",
    "X_train_selected = X_train_scaled[:, top_feature_indices] \n",
    "X_val_selected = X_val_scaled[:, top_feature_indices]    \n",
    "\n",
    "X_train_selected.shape"
   ]
  },
  {
   "cell_type": "markdown",
   "id": "8e0d7ef1",
   "metadata": {
    "papermill": {
     "duration": 0.0104,
     "end_time": "2024-06-08T15:11:20.954942",
     "exception": false,
     "start_time": "2024-06-08T15:11:20.944542",
     "status": "completed"
    },
    "tags": []
   },
   "source": [
    "## Slicing the testing data"
   ]
  },
  {
   "cell_type": "code",
   "execution_count": 10,
   "id": "2fbc8ffc",
   "metadata": {
    "execution": {
     "iopub.execute_input": "2024-06-08T15:11:20.979578Z",
     "iopub.status.busy": "2024-06-08T15:11:20.978568Z",
     "iopub.status.idle": "2024-06-08T15:11:20.989279Z",
     "shell.execute_reply": "2024-06-08T15:11:20.988026Z"
    },
    "papermill": {
     "duration": 0.025887,
     "end_time": "2024-06-08T15:11:20.992228",
     "exception": false,
     "start_time": "2024-06-08T15:11:20.966341",
     "status": "completed"
    },
    "tags": []
   },
   "outputs": [
    {
     "data": {
      "text/plain": [
       "(1381, 54)"
      ]
     },
     "execution_count": 10,
     "metadata": {},
     "output_type": "execute_result"
    }
   ],
   "source": [
    "X_train_s = X_train[:, top_feature_indices] \n",
    "X_test_s = X_test[:, top_feature_indices]    \n",
    "\n",
    "X_test_s.shape"
   ]
  },
  {
   "cell_type": "markdown",
   "id": "28c42712",
   "metadata": {
    "papermill": {
     "duration": 0.01026,
     "end_time": "2024-06-08T15:11:21.013147",
     "exception": false,
     "start_time": "2024-06-08T15:11:21.002887",
     "status": "completed"
    },
    "tags": []
   },
   "source": [
    "# Setting up GS parameteres"
   ]
  },
  {
   "cell_type": "code",
   "execution_count": 11,
   "id": "6b01aa47",
   "metadata": {
    "execution": {
     "iopub.execute_input": "2024-06-08T15:11:21.035777Z",
     "iopub.status.busy": "2024-06-08T15:11:21.035371Z",
     "iopub.status.idle": "2024-06-08T15:11:21.041638Z",
     "shell.execute_reply": "2024-06-08T15:11:21.040306Z"
    },
    "papermill": {
     "duration": 0.02187,
     "end_time": "2024-06-08T15:11:21.045448",
     "exception": false,
     "start_time": "2024-06-08T15:11:21.023578",
     "status": "completed"
    },
    "tags": []
   },
   "outputs": [],
   "source": [
    "# Define the parameter grid for hyperparameter tuning using GridSearchCV\n",
    "# Note that these are the final values after running too many iterations\n",
    "\n",
    "\n",
    "param_grid = {\n",
    "    'n_estimators': [200],           \n",
    "    'max_features': ['log2'],        \n",
    "    'criterion': ['entropy'],        \n",
    "    'max_depth': [30],               \n",
    "    'bootstrap': [False],            \n",
    "    'warm_start': [True],            \n",
    "    'min_samples_split': [5],        \n",
    "    'min_samples_leaf': [1],       \n",
    "}"
   ]
  },
  {
   "cell_type": "markdown",
   "id": "c2ca1477",
   "metadata": {
    "papermill": {
     "duration": 0.010928,
     "end_time": "2024-06-08T15:11:21.068297",
     "exception": false,
     "start_time": "2024-06-08T15:11:21.057369",
     "status": "completed"
    },
    "tags": []
   },
   "source": [
    "# Grid search and training"
   ]
  },
  {
   "cell_type": "markdown",
   "id": "252d3d84",
   "metadata": {
    "papermill": {
     "duration": 0.011048,
     "end_time": "2024-06-08T15:11:21.091288",
     "exception": false,
     "start_time": "2024-06-08T15:11:21.080240",
     "status": "completed"
    },
    "tags": []
   },
   "source": [
    "## Grid search on a subset of the training data to acquire the best parameters"
   ]
  },
  {
   "cell_type": "code",
   "execution_count": 12,
   "id": "69125473",
   "metadata": {
    "execution": {
     "iopub.execute_input": "2024-06-08T15:11:21.116441Z",
     "iopub.status.busy": "2024-06-08T15:11:21.116065Z",
     "iopub.status.idle": "2024-06-08T15:11:29.842489Z",
     "shell.execute_reply": "2024-06-08T15:11:29.841019Z"
    },
    "papermill": {
     "duration": 8.741202,
     "end_time": "2024-06-08T15:11:29.845201",
     "exception": false,
     "start_time": "2024-06-08T15:11:21.103999",
     "status": "completed"
    },
    "tags": []
   },
   "outputs": [
    {
     "name": "stdout",
     "output_type": "stream",
     "text": [
      "Fitting 5 folds for each of 1 candidates, totalling 5 fits\n",
      "Best parameters found:  {'bootstrap': False, 'criterion': 'entropy', 'max_depth': 30, 'max_features': 'log2', 'min_samples_leaf': 1, 'min_samples_split': 5, 'n_estimators': 200, 'warm_start': True}\n",
      "Validation F1 Score with Best Parameters: 0.9581749049429658\n"
     ]
    }
   ],
   "source": [
    "rf = RandomForestClassifier(random_state=42)\n",
    "\n",
    "\n",
    "# Initialize GridSearchCV for hyperparameter tuning\n",
    "grid_search = GridSearchCV(\n",
    "    estimator=rf,                   \n",
    "    param_grid=param_grid,          \n",
    "    cv=5,                           \n",
    "    scoring='f1',                   \n",
    "    n_jobs=-1,                      \n",
    "    verbose=2                       \n",
    ")\n",
    "\n",
    "# Fit GridSearchCV to the training data with the selected features\n",
    "grid_search.fit(X_train_selected, y_train)\n",
    "\n",
    "\n",
    "# Extract the best parameters found by GridSearchCV\n",
    "best_params = grid_search.best_params_\n",
    "print(\"Best parameters found: \", best_params)\n",
    "\n",
    "\n",
    "# Create a new instance of the RandomForestClassifier with the best parameters\n",
    "rf_best = RandomForestClassifier(random_state=42, **best_params)\n",
    "\n",
    "\n",
    "rf_best.fit(X_train_selected, y_train)\n",
    "\n",
    "\n",
    "y_val_pred = rf_best.predict(X_val_selected)\n",
    "\n",
    "\n",
    "f1 = f1_score(y_val, y_val_pred)\n",
    "print(\"Validation F1 Score with Best Parameters:\", f1)\n",
    "\n",
    "# Print the top F1 score obtained so far\n",
    "# TOP RESULT TILL NOW: 0.962121212121212\n"
   ]
  },
  {
   "cell_type": "markdown",
   "id": "a6289874",
   "metadata": {
    "papermill": {
     "duration": 0.011431,
     "end_time": "2024-06-08T15:11:29.868324",
     "exception": false,
     "start_time": "2024-06-08T15:11:29.856893",
     "status": "completed"
    },
    "tags": []
   },
   "source": [
    "## Training on the full data"
   ]
  },
  {
   "cell_type": "markdown",
   "id": "50456e4a",
   "metadata": {
    "papermill": {
     "duration": 0.01055,
     "end_time": "2024-06-08T15:11:29.890708",
     "exception": false,
     "start_time": "2024-06-08T15:11:29.880158",
     "status": "completed"
    },
    "tags": []
   },
   "source": [
    "# Confusion matrix"
   ]
  },
  {
   "cell_type": "code",
   "execution_count": 13,
   "id": "a89059ec",
   "metadata": {
    "execution": {
     "iopub.execute_input": "2024-06-08T15:11:29.915954Z",
     "iopub.status.busy": "2024-06-08T15:11:29.915441Z",
     "iopub.status.idle": "2024-06-08T15:11:30.215731Z",
     "shell.execute_reply": "2024-06-08T15:11:30.214641Z"
    },
    "papermill": {
     "duration": 0.316832,
     "end_time": "2024-06-08T15:11:30.218252",
     "exception": false,
     "start_time": "2024-06-08T15:11:29.901420",
     "status": "completed"
    },
    "tags": []
   },
   "outputs": [
    {
     "data": {
      "image/png": "[encoded data removed]",
      "text/plain": [
       "<Figure size 800x600 with 2 Axes>"
      ]
     },
     "metadata": {},
     "output_type": "display_data"
    }
   ],
   "source": [
    "# Here is the confusion matrix that summarizes my results\n",
    "\n",
    "conf_matrix = confusion_matrix(y_val, y_val_pred)\n",
    "\n",
    "plt.figure(figsize=(8, 6))\n",
    "sns.heatmap(conf_matrix, annot=True, fmt='d', cmap='Blues', xticklabels=['Not Spam', 'Spam'], yticklabels=['Not Spam', 'Spam'])\n",
    "plt.xlabel('Predicted Label')\n",
    "plt.ylabel('True Label')\n",
    "plt.title('Confusion Matrix')\n",
    "plt.show()\n"
   ]
  },
  {
   "cell_type": "markdown",
   "id": "09c9fce2",
   "metadata": {
    "papermill": {
     "duration": 0.011793,
     "end_time": "2024-06-08T15:11:30.241904",
     "exception": false,
     "start_time": "2024-06-08T15:11:30.230111",
     "status": "completed"
    },
    "tags": []
   },
   "source": [
    "# distribution of predicted probabilities"
   ]
  },
  {
   "cell_type": "code",
   "execution_count": 14,
   "id": "13461322",
   "metadata": {
    "execution": {
     "iopub.execute_input": "2024-06-08T15:11:30.266301Z",
     "iopub.status.busy": "2024-06-08T15:11:30.265939Z",
     "iopub.status.idle": "2024-06-08T15:11:30.639442Z",
     "shell.execute_reply": "2024-06-08T15:11:30.638184Z"
    },
    "papermill": {
     "duration": 0.389524,
     "end_time": "2024-06-08T15:11:30.642500",
     "exception": false,
     "start_time": "2024-06-08T15:11:30.252976",
     "status": "completed"
    },
    "tags": []
   },
   "outputs": [
    {
     "data": {
      "image/png": "[encoded data removed]",
      "text/plain": [
       "<Figure size 800x600 with 1 Axes>"
      ]
     },
     "metadata": {},
     "output_type": "display_data"
    }
   ],
   "source": [
    "y_proba = rf_best.predict_proba(X_val_selected)[:, 1]  # Probabilities for the positive class (spam)\n",
    "\n",
    "# Plot the histogram of predicted probabilities\n",
    "import matplotlib.pyplot as plt\n",
    "\n",
    "plt.figure(figsize=(8, 6))\n",
    "plt.hist(y_proba, bins=50, alpha=0.7, label='Spam Probability')\n",
    "plt.xlabel('Predicted Probability')\n",
    "plt.ylabel('Frequency')\n",
    "plt.title('Distribution of Predicted Probabilities for Spam')\n",
    "plt.legend()\n",
    "plt.show()"
   ]
  },
  {
   "cell_type": "markdown",
   "id": "8275822a",
   "metadata": {
    "papermill": {
     "duration": 0.011414,
     "end_time": "2024-06-08T15:11:30.665783",
     "exception": false,
     "start_time": "2024-06-08T15:11:30.654369",
     "status": "completed"
    },
    "tags": []
   },
   "source": [
    "# Loading the results on a CSV file for submission"
   ]
  },
  {
   "cell_type": "code",
   "execution_count": 15,
   "id": "0ca1a9fb",
   "metadata": {
    "execution": {
     "iopub.execute_input": "2024-06-08T15:11:30.692026Z",
     "iopub.status.busy": "2024-06-08T15:11:30.691645Z",
     "iopub.status.idle": "2024-06-08T15:11:30.760275Z",
     "shell.execute_reply": "2024-06-08T15:11:30.759051Z"
    },
    "papermill": {
     "duration": 0.084767,
     "end_time": "2024-06-08T15:11:30.762914",
     "exception": false,
     "start_time": "2024-06-08T15:11:30.678147",
     "status": "completed"
    },
    "tags": []
   },
   "outputs": [
    {
     "name": "stdout",
     "output_type": "stream",
     "text": [
      "Fitting done!!\n"
     ]
    }
   ],
   "source": [
    "rf_best.fit(X_train_s, y)\n",
    "\n",
    "print(\"Fitting done!!\")\n",
    "\n",
    "rf_pred = rf_best.predict(X_test_s)\n",
    "\n",
    "# Create a DataFrame containing the predictions along with the corresponding IDs\n",
    "output = pd.DataFrame({'ID': test_df.ID, 'spam': rf_pred})\n",
    "\n",
    "# Write the predictions to a CSV file named 'predictions.csv' without including the index\n",
    "output.to_csv('predictions.csv', index=False)\n"
   ]
  }
 ],
 "metadata": {
  "kaggle": {
   "accelerator": "none",
   "dataSources": [
    {
     "databundleVersionId": 8666238,
     "sourceId": 80656,
     "sourceType": "competition"
    }
   ],
   "dockerImageVersionId": 30732,
   "isGpuEnabled": false,
   "isInternetEnabled": true,
   "language": "python",
   "sourceType": "notebook"
  },
  "kernelspec": {
   "display_name": "Python 3",
   "language": "python",
   "name": "python3"
  },
  "language_info": {
   "codemirror_mode": {
    "name": "ipython",
    "version": 3
   },
   "file_extension": ".py",
   "mimetype": "text/x-python",
   "name": "python",
   "nbconvert_exporter": "python",
   "pygments_lexer": "ipython3",
   "version": "3.10.13"
  },
  "papermill": {
   "default_parameters": {},
   "duration": 20.97583,
   "end_time": "2024-06-08T15:11:33.396082",
   "environment_variables": {},
   "exception": null,
   "input_path": "__notebook__.ipynb",
   "output_path": "__notebook__.ipynb",
   "parameters": {},
   "start_time": "2024-06-08T15:11:12.420252",
   "version": "2.5.0"
  },
  "toc-showmarkdowntxt": true
 },
 "nbformat": 4,
 "nbformat_minor": 5
}
