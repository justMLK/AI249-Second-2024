{
 "cells": [
  {
   "cell_type": "markdown",
   "id": "d97fa850",
   "metadata": {
    "jp-MarkdownHeadingCollapsed": true,
    "tags": []
   },
   "source": [
    "### Name : Nour Abu Baider\n",
    "### ID : 166542"
   ]
  },
  {
   "cell_type": "markdown",
   "id": "496048e5-5440-4635-a6e4-0f65e08ecbf5",
   "metadata": {},
   "source": [
    "# Spam Classification Project\n",
    "\n",
    "This project uses a Random Forest classifier to predict whether an email is spam based on various features.\n",
    "\n",
    "## Installation and Requirements\n",
    "\n",
    "1. Importing and Installing the required packages.\n",
    "2. Loading, reading and preparing the data for model training. \n"
   ]
  },
  {
   "cell_type": "code",
   "execution_count": 46,
   "id": "b6d7bba6-0beb-463a-96ed-fbfe119b499f",
   "metadata": {
    "tags": []
   },
   "outputs": [],
   "source": [
    "import pandas as pd\n",
    "from sklearn.model_selection import train_test_split, GridSearchCV\n",
    "from sklearn.metrics import accuracy_score\n",
    "from sklearn.ensemble import RandomForestClassifier\n",
    "from sklearn.preprocessing import StandardScaler\n",
    "import matplotlib.pyplot as plt\n"
   ]
  },
  {
   "cell_type": "code",
   "execution_count": 48,
   "id": "6eb0464c-ac30-4b31-a3b6-c0a1eb76718c",
   "metadata": {
    "tags": []
   },
   "outputs": [],
   "source": [
    "# Load and Read the training data\n",
    "\n",
    "train_data_path = \"spambase_train.csv\"\n",
    "test_data_path = \"spambase_test.csv\"\n",
    "train_data = pd.read_csv(train_data_path)\n",
    "test_data = pd.read_csv(test_data_path)"
   ]
  },
  {
   "cell_type": "code",
   "execution_count": 50,
   "id": "297fa3c4-769a-459a-8f45-d66d58e4a99c",
   "metadata": {
    "tags": []
   },
   "outputs": [],
   "source": [
    "# Prepare train and test data\n",
    "\n",
    "\n",
    "xtrain = train_data.drop(['spam', 'ID'], axis=1).copy()\n",
    "ytrain = train_data['spam'].copy()\n",
    "testID = test_data['ID'].copy()\n",
    "xtest = test_data.drop(['ID'], axis=1).copy()"
   ]
  },
  {
   "cell_type": "markdown",
   "id": "5f5d68e4-8123-4587-a26a-5a7781e52385",
   "metadata": {},
   "source": [
    "# Data Preprocessing\n",
    "\n",
    "splitting and preprocesses the data for modling training"
   ]
  },
  {
   "cell_type": "code",
   "execution_count": 53,
   "id": "78b6fb10-791a-472d-9e9b-169d3f6f6c97",
   "metadata": {
    "tags": []
   },
   "outputs": [],
   "source": [
    "# Split the training data\n",
    "\n",
    "X_train, X_val, y_train, y_val = train_test_split(xtrain, ytrain, test_size=0.2, random_state=42)"
   ]
  },
  {
   "cell_type": "code",
   "execution_count": 55,
   "id": "1b3610b6-7cf7-4db3-9d95-510361b2cad2",
   "metadata": {
    "tags": []
   },
   "outputs": [],
   "source": [
    "#Preprocessing: Scale the features\n",
    "\n",
    "scaler = StandardScaler()\n",
    "X_train_scaled = scaler.fit_transform(X_train)\n",
    "X_val_scaled = scaler.transform(X_val)\n",
    "xtest_scaled = scaler.transform(xtest)"
   ]
  },
  {
   "cell_type": "code",
   "execution_count": 57,
   "id": "ff52f09c-a52a-477a-8cc7-b71d41c03964",
   "metadata": {
    "tags": []
   },
   "outputs": [],
   "source": [
    "# Hyperparameter tuning using Grid Search\n",
    "\n",
    "\n",
    "param_grid = {\n",
    "    'n_estimators': [100, 200, 300],\n",
    "    'max_depth': [None, 10, 20, 30],\n",
    "    'min_samples_split': [2, 5, 10],\n",
    "    'min_samples_leaf': [1, 2, 4],\n",
    "    'bootstrap': [True, False]\n",
    "}"
   ]
  },
  {
   "cell_type": "markdown",
   "id": "c02caa35-3b79-4dad-b098-689f70e91124",
   "metadata": {},
   "source": [
    "# Model Training\n",
    "\n",
    "trainning the modle using a Random Forest model on the preprocessed data."
   ]
  },
  {
   "cell_type": "code",
   "execution_count": 60,
   "id": "342dd246-4556-4b03-b286-c1b367f360ac",
   "metadata": {
    "tags": []
   },
   "outputs": [
    {
     "name": "stdout",
     "output_type": "stream",
     "text": [
      "Fitting 3 folds for each of 216 candidates, totalling 648 fits\n"
     ]
    }
   ],
   "source": [
    "# Train the model\n",
    "\n",
    "rf = RandomForestClassifier(random_state=42, class_weight='balanced')\n",
    "grid_search = GridSearchCV(estimator=rf, param_grid=param_grid, cv=3, n_jobs=-1, verbose=2, scoring='accuracy')\n",
    "grid_search.fit(X_train_scaled, y_train)\n",
    "\n",
    "\n",
    "best_model = grid_search.best_estimator_\n"
   ]
  },
  {
   "cell_type": "markdown",
   "id": "d59cce8e-bb13-4e5f-ab69-fc90299b6561",
   "metadata": {},
   "source": [
    "# Validation and Prediction\n",
    "\n",
    "Validate the model and make Prediction on the actual test data"
   ]
  },
  {
   "cell_type": "code",
   "execution_count": 62,
   "id": "5027d727-a7be-44a3-bad7-0d760cd5b058",
   "metadata": {
    "tags": []
   },
   "outputs": [
    {
     "name": "stdout",
     "output_type": "stream",
     "text": [
      "Accuracy: 0.9611801242236024\n"
     ]
    }
   ],
   "source": [
    "# Validate the model\n",
    "\n",
    "ypred_val = best_model.predict(X_val_scaled)\n",
    "accuracy = accuracy_score(y_val, ypred_val)\n",
    "print(\"Accuracy:\", accuracy)"
   ]
  },
  {
   "cell_type": "code",
   "execution_count": 64,
   "id": "bdc4c0dc-db24-4f13-b2c0-d658c5b9549c",
   "metadata": {
    "tags": []
   },
   "outputs": [],
   "source": [
    "# Predict on the actual test data\n",
    "\n",
    "ypred_test = best_model.predict(xtest_scaled)"
   ]
  },
  {
   "cell_type": "markdown",
   "id": "e1f9bb8e-e45c-450f-8471-59860919ed51",
   "metadata": {},
   "source": [
    "# Scatter Plot\n",
    " \n",
    " I used scatter plot to Visualize the relationship between featuers and the target variable ('spam').\n",
    " \n",
    "I chosed \" word_freq_free \" and \" char_freq_$ \" \n",
    "\n",
    "because of the frequency of the word \"free\" is a strong indicator of spam, as many spam emails offer free products or services.\n",
    "and the frequency of the dollar sign character is indicative of spam, as spam emails often mention money or financial transactions.\n",
    "\n",
    "\n",
    "\" word_freq_free \"  on the x-axis and \" char_freq_$ \"  on the y-axis, coloring the points based on whether they are spam or not"
   ]
  },
  {
   "cell_type": "code",
   "execution_count": 67,
   "id": "b7ba214a-1539-4985-9eab-ca0ebc1cc9e9",
   "metadata": {
    "tags": []
   },
   "outputs": [
    {
     "name": "stdout",
     "output_type": "stream",
     "text": [
      "Index(['word_freq_make', 'word_freq_address', 'word_freq_all', 'word_freq_3d',\n",
      "       'word_freq_our', 'word_freq_over', 'word_freq_remove',\n",
      "       'word_freq_internet', 'word_freq_order', 'word_freq_mail',\n",
      "       'word_freq_receive', 'word_freq_will', 'word_freq_people',\n",
      "       'word_freq_report', 'word_freq_addresses', 'word_freq_free',\n",
      "       'word_freq_business', 'word_freq_email', 'word_freq_you',\n",
      "       'word_freq_credit', 'word_freq_your', 'word_freq_font', 'word_freq_000',\n",
      "       'word_freq_money', 'word_freq_hp', 'word_freq_hpl', 'word_freq_george',\n",
      "       'word_freq_650', 'word_freq_lab', 'word_freq_labs', 'word_freq_telnet',\n",
      "       'word_freq_857', 'word_freq_data', 'word_freq_415', 'word_freq_85',\n",
      "       'word_freq_technology', 'word_freq_1999', 'word_freq_parts',\n",
      "       'word_freq_pm', 'word_freq_direct', 'word_freq_cs', 'word_freq_meeting',\n",
      "       'word_freq_original', 'word_freq_project', 'word_freq_re',\n",
      "       'word_freq_edu', 'word_freq_table', 'word_freq_conference',\n",
      "       'char_freq_;', 'char_freq_(', 'char_freq_[', 'char_freq_!',\n",
      "       'char_freq_$', 'char_freq_#', 'capital_run_length_average',\n",
      "       'capital_run_length_longest', 'capital_run_length_total', 'spam', 'ID'],\n",
      "      dtype='object')\n"
     ]
    }
   ],
   "source": [
    "print(train_data.columns)"
   ]
  },
  {
   "cell_type": "code",
   "execution_count": 69,
   "id": "4d59b2c5-635d-46a5-9485-b67d7e023707",
   "metadata": {
    "tags": []
   },
   "outputs": [
    {
     "data": {
      "image/png": "[encoded data removed]",
      "text/plain": [
       "<Figure size 1000x600 with 2 Axes>"
      ]
     },
     "metadata": {},
     "output_type": "display_data"
    }
   ],
   "source": [
    "# Scatter Plot\n",
    "\n",
    "feature1 = 'word_freq_free'  # frequency of the word \"free\"\n",
    "feature2 = 'char_freq_$'  # frequency of the dollar sign character\n",
    "\n",
    "# Create the scatter plot\n",
    "plt.figure(figsize=(10, 6))\n",
    "plt.scatter(train_data[feature1], train_data[feature2], c=train_data['spam'], cmap='coolwarm', alpha=0.6)\n",
    "plt.colorbar(label='Spam')\n",
    "plt.xlabel(feature1)\n",
    "plt.ylabel(feature2)\n",
    "plt.title('Scatter Plot of Two Features Colored by Spam')\n",
    "plt.show()"
   ]
  },
  {
   "cell_type": "markdown",
   "id": "2705a708-d30b-4aaa-95df-dc2ba3da3467",
   "metadata": {},
   "source": [
    "# Submission and Handling.\n",
    "\n",
    "\n",
    "Submission file and Handling the null values (if found)\n",
    "\n",
    "\n",
    "\n",
    "\n"
   ]
  },
  {
   "cell_type": "code",
   "execution_count": 72,
   "id": "8b580053-f083-45d4-b4c8-c1ed2f90a7d0",
   "metadata": {
    "tags": []
   },
   "outputs": [],
   "source": [
    "# Prepare the submission\n",
    "\n",
    "sub = pd.DataFrame({'ID': testID, 'spam': ypred_test})"
   ]
  },
  {
   "cell_type": "code",
   "execution_count": 74,
   "id": "e0b4cfc1-b6a0-462e-bb1c-6ab1f11bb06d",
   "metadata": {
    "tags": []
   },
   "outputs": [],
   "source": [
    "# Handle null IDs (if any)\n",
    "\n",
    "null_id_mask = sub['ID'].isnull()\n",
    "new_ids = range(len(sub) + 1, len(sub) + 1 + null_id_mask.sum())\n",
    "sub.loc[null_id_mask, 'ID'] = new_ids"
   ]
  },
  {
   "cell_type": "code",
   "execution_count": 76,
   "id": "7cbadfba-5ec4-493c-bd27-3424f81af288",
   "metadata": {
    "tags": []
   },
   "outputs": [],
   "source": [
    "# Save the submission to a CSV file\n",
    "\n",
    "csv_file = 'numnum.csv'\n",
    "sub.to_csv(csv_file, index=False)"
   ]
  }
 ],
 "metadata": {
  "kernelspec": {
   "display_name": "Python 3 (ipykernel)",
   "language": "python",
   "name": "python3"
  },
  "language_info": {
   "codemirror_mode": {
    "name": "ipython",
    "version": 3
   },
   "file_extension": ".py",
   "mimetype": "text/x-python",
   "name": "python",
   "nbconvert_exporter": "python",
   "pygments_lexer": "ipython3",
   "version": "3.11.7"
  }
 },
 "nbformat": 4,
 "nbformat_minor": 5
}
