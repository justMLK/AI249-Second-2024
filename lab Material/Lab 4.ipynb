{
 "cells": [
  {
   "cell_type": "markdown",
   "id": "78b9c53b-de7c-4f63-83c8-f786128f8983",
   "metadata": {},
   "source": [
    "<h1 style=\"color:red;\">Lab 4</h1>\n",
    "\n",
    "*Date: Thursday 15/4/2024*\n",
    "\n",
    "<h2>Lab Objectives: Linear Regression</h2>\n",
    "<ol>\n",
    "    <li>Downloading the Boston Housing Dataset.</li>\n",
    "    <li>Training a Simple Univariate Linear Regression model using a closed-form solution.</li>\n",
    "    <li>Training a Multivariate Linear Regression using the Normal Equation.</li>\n",
    "</ol>\n",
    "<i>By Ahmed Qarqaz</i>\n",
    "\n",
    "\n"
   ]
  },
  {
   "cell_type": "markdown",
   "id": "236df190-7764-44f0-ae92-50bb18bf718c",
   "metadata": {},
   "source": [
    "# Dependencies"
   ]
  },
  {
   "cell_type": "code",
   "execution_count": 1,
   "id": "04cb23e3-16f9-4430-a254-2179a8ced886",
   "metadata": {},
   "outputs": [],
   "source": [
    "import pandas as pd\n",
    "import numpy as np\n",
    "import matplotlib.pyplot as plt"
   ]
  },
  {
   "cell_type": "markdown",
   "id": "6ccf3904-93e7-476f-8e5d-bb204a30af9b",
   "metadata": {},
   "source": [
    "# Utilities"
   ]
  },
  {
   "cell_type": "code",
   "execution_count": 2,
   "id": "768972e5-14d1-4894-b9cf-c73185c68baf",
   "metadata": {},
   "outputs": [],
   "source": [
    "def make_scatter_plot(df, x_column, y_column=None, fit_line=None):\n",
    "    \"\"\"\n",
    "    Plots a scatter plot of the values in the specified columns of the DataFrame.\n",
    "\n",
    "    Parameters:\n",
    "    - df: pandas.DataFrame containing the data.\n",
    "    - x_column: str, the name of the column to use for the x-axis.\n",
    "    - y_column: str, optional, the name of the column to use for the y-axis. If not provided, the index of the DataFrame will be used.\n",
    "    - fit_line: bool, optional, whether to draw a best fit line or not. Default is True.\n",
    "    \"\"\"\n",
    "    # Check if columns exist in DataFrame\n",
    "    if x_column not in df.columns:\n",
    "        print(f\"Column '{x_column}' not found in DataFrame.\")\n",
    "        return\n",
    "    if y_column is not None and y_column not in df.columns:\n",
    "        print(f\"Column '{y_column}' not found in DataFrame.\")\n",
    "        return\n",
    "\n",
    "    # Extract values from the specified columns\n",
    "    x_values = df[x_column]\n",
    "    y_values = df[y_column] if y_column else df.index\n",
    "\n",
    "    # Plot scatter plot\n",
    "    plt.scatter(x_values, y_values, label='Data points', color='skyblue')\n",
    "\n",
    "    # Plot best fit line if fit_line is True\n",
    "    if fit_line:\n",
    "\n",
    "        # Generate y values for the best fit line\n",
    "        fit_line_values = fit_line[\"slope\"] * x_values + fit_line[\"intercept\"]\n",
    "\n",
    "        # Plot the best fit line\n",
    "        plt.plot(x_values, fit_line_values, label='Fit line', color='red')\n",
    "\n",
    "    # Plot aesthetics\n",
    "    plt.title(f'Scatter Plot of {x_column} vs {y_column if y_column else \"Index\"}')\n",
    "    plt.xlabel(x_column)\n",
    "    plt.ylabel(y_column if y_column else 'Index')\n",
    "    plt.legend()\n",
    "\n",
    "    plt.show()"
   ]
  },
  {
   "cell_type": "markdown",
   "id": "8a5ba992-266d-489c-a557-a279c2e7d6b3",
   "metadata": {},
   "source": [
    "# Reading the Dataset\n",
    "\n",
    "In this lab, we will be using the <a href=\"https://www.kaggle.com/datasets/vikrishnan/boston-house-prices/data\">Boston Housing Dataset</a>.\n",
    "\n",
    "Attributes:\n",
    "<ol>\n",
    "    <li>CRIM:      per capita crime rate by town.</li>\n",
    "    <li>ZN:        proportion of residential land zoned for lots over 25,000 sq.ft.</li>\n",
    "    <li>INDUS:     proportion of non-retail business acres per town.</li>\n",
    "    <li>CHAS:      Charles River dummy variable (= 1 if tract bounds river; 0 otherwise).</li>\n",
    "    <li>NOX:       nitric oxides concentration (parts per 10 million).</li>\n",
    "    <li>RM:        average number of rooms per dwelling.</li>\n",
    "    <li>AGE:       proportion of owner-occupied units built prior to 1940.</li>\n",
    "    <li>DIS:       weighted distances to ﬁve Boston employment centers.</li>\n",
    "    <li>RAD:       index of accessibility to radial highways.</li>\n",
    "    <li>TAX:       full-value property-tax rate per \\$10,000.</li>\n",
    "    <li>PTRATIO:   pupil-teacher ratio by town 12. B: 1000(Bk−0.63)2 where Bk is the proportion of blacks by town 13. LSTAT: % lower status of the population.</li>\n",
    "    <li>B:         1000(Bk - 0.63)^2 where Bk is the proportion of blacks by town.</li>\n",
    "    <li>LSTAT:     % lower status of the population.</li>\n",
    "</ol>\n",
    "\n",
    "<big>Target: </big><span>MEDV:      Median value of owner-occupied homes in $1000's.</span>"
   ]
  },
  {
   "cell_type": "code",
   "execution_count": 3,
   "id": "c09a2aae-eaa0-4e19-9fd4-4431b77666a2",
   "metadata": {},
   "outputs": [],
   "source": [
    "column_names = ['CRIM', 'ZN', 'INDUS', 'CHAS', 'NOX', 'RM',\n",
    "                'AGE', 'DIS', 'RAD', 'TAX', 'PTRATIO', 'B',\n",
    "                'LSTAT', 'MEDV']\n",
    "df = pd.read_csv(\"../Datasets/Boston Housing/housing.csv\",\n",
    "                 sep=r\"\\s+\", # regular expression\n",
    "                 names=column_names)"
   ]
  },
  {
   "cell_type": "code",
   "execution_count": 4,
   "id": "2a7e1bcf-ef7a-43ad-9412-2ab1ea675512",
   "metadata": {},
   "outputs": [
    {
     "data": {
      "text/html": [
       "<div>\n",
       "<style scoped>\n",
       "    .dataframe tbody tr th:only-of-type {\n",
       "        vertical-align: middle;\n",
       "    }\n",
       "\n",
       "    .dataframe tbody tr th {\n",
       "        vertical-align: top;\n",
       "    }\n",
       "\n",
       "    .dataframe thead th {\n",
       "        text-align: right;\n",
       "    }\n",
       "</style>\n",
       "<table border=\"1\" class=\"dataframe\">\n",
       "  <thead>\n",
       "    <tr style=\"text-align: right;\">\n",
       "      <th></th>\n",
       "      <th>CRIM</th>\n",
       "      <th>ZN</th>\n",
       "      <th>INDUS</th>\n",
       "      <th>CHAS</th>\n",
       "      <th>NOX</th>\n",
       "      <th>RM</th>\n",
       "      <th>AGE</th>\n",
       "      <th>DIS</th>\n",
       "      <th>RAD</th>\n",
       "      <th>TAX</th>\n",
       "      <th>PTRATIO</th>\n",
       "      <th>B</th>\n",
       "      <th>LSTAT</th>\n",
       "      <th>MEDV</th>\n",
       "    </tr>\n",
       "  </thead>\n",
       "  <tbody>\n",
       "    <tr>\n",
       "      <th>0</th>\n",
       "      <td>0.00632</td>\n",
       "      <td>18.0</td>\n",
       "      <td>2.31</td>\n",
       "      <td>0</td>\n",
       "      <td>0.538</td>\n",
       "      <td>6.575</td>\n",
       "      <td>65.2</td>\n",
       "      <td>4.0900</td>\n",
       "      <td>1</td>\n",
       "      <td>296.0</td>\n",
       "      <td>15.3</td>\n",
       "      <td>396.90</td>\n",
       "      <td>4.98</td>\n",
       "      <td>24.0</td>\n",
       "    </tr>\n",
       "    <tr>\n",
       "      <th>1</th>\n",
       "      <td>0.02731</td>\n",
       "      <td>0.0</td>\n",
       "      <td>7.07</td>\n",
       "      <td>0</td>\n",
       "      <td>0.469</td>\n",
       "      <td>6.421</td>\n",
       "      <td>78.9</td>\n",
       "      <td>4.9671</td>\n",
       "      <td>2</td>\n",
       "      <td>242.0</td>\n",
       "      <td>17.8</td>\n",
       "      <td>396.90</td>\n",
       "      <td>9.14</td>\n",
       "      <td>21.6</td>\n",
       "    </tr>\n",
       "    <tr>\n",
       "      <th>2</th>\n",
       "      <td>0.02729</td>\n",
       "      <td>0.0</td>\n",
       "      <td>7.07</td>\n",
       "      <td>0</td>\n",
       "      <td>0.469</td>\n",
       "      <td>7.185</td>\n",
       "      <td>61.1</td>\n",
       "      <td>4.9671</td>\n",
       "      <td>2</td>\n",
       "      <td>242.0</td>\n",
       "      <td>17.8</td>\n",
       "      <td>392.83</td>\n",
       "      <td>4.03</td>\n",
       "      <td>34.7</td>\n",
       "    </tr>\n",
       "    <tr>\n",
       "      <th>3</th>\n",
       "      <td>0.03237</td>\n",
       "      <td>0.0</td>\n",
       "      <td>2.18</td>\n",
       "      <td>0</td>\n",
       "      <td>0.458</td>\n",
       "      <td>6.998</td>\n",
       "      <td>45.8</td>\n",
       "      <td>6.0622</td>\n",
       "      <td>3</td>\n",
       "      <td>222.0</td>\n",
       "      <td>18.7</td>\n",
       "      <td>394.63</td>\n",
       "      <td>2.94</td>\n",
       "      <td>33.4</td>\n",
       "    </tr>\n",
       "    <tr>\n",
       "      <th>4</th>\n",
       "      <td>0.06905</td>\n",
       "      <td>0.0</td>\n",
       "      <td>2.18</td>\n",
       "      <td>0</td>\n",
       "      <td>0.458</td>\n",
       "      <td>7.147</td>\n",
       "      <td>54.2</td>\n",
       "      <td>6.0622</td>\n",
       "      <td>3</td>\n",
       "      <td>222.0</td>\n",
       "      <td>18.7</td>\n",
       "      <td>396.90</td>\n",
       "      <td>5.33</td>\n",
       "      <td>36.2</td>\n",
       "    </tr>\n",
       "    <tr>\n",
       "      <th>...</th>\n",
       "      <td>...</td>\n",
       "      <td>...</td>\n",
       "      <td>...</td>\n",
       "      <td>...</td>\n",
       "      <td>...</td>\n",
       "      <td>...</td>\n",
       "      <td>...</td>\n",
       "      <td>...</td>\n",
       "      <td>...</td>\n",
       "      <td>...</td>\n",
       "      <td>...</td>\n",
       "      <td>...</td>\n",
       "      <td>...</td>\n",
       "      <td>...</td>\n",
       "    </tr>\n",
       "    <tr>\n",
       "      <th>501</th>\n",
       "      <td>0.06263</td>\n",
       "      <td>0.0</td>\n",
       "      <td>11.93</td>\n",
       "      <td>0</td>\n",
       "      <td>0.573</td>\n",
       "      <td>6.593</td>\n",
       "      <td>69.1</td>\n",
       "      <td>2.4786</td>\n",
       "      <td>1</td>\n",
       "      <td>273.0</td>\n",
       "      <td>21.0</td>\n",
       "      <td>391.99</td>\n",
       "      <td>9.67</td>\n",
       "      <td>22.4</td>\n",
       "    </tr>\n",
       "    <tr>\n",
       "      <th>502</th>\n",
       "      <td>0.04527</td>\n",
       "      <td>0.0</td>\n",
       "      <td>11.93</td>\n",
       "      <td>0</td>\n",
       "      <td>0.573</td>\n",
       "      <td>6.120</td>\n",
       "      <td>76.7</td>\n",
       "      <td>2.2875</td>\n",
       "      <td>1</td>\n",
       "      <td>273.0</td>\n",
       "      <td>21.0</td>\n",
       "      <td>396.90</td>\n",
       "      <td>9.08</td>\n",
       "      <td>20.6</td>\n",
       "    </tr>\n",
       "    <tr>\n",
       "      <th>503</th>\n",
       "      <td>0.06076</td>\n",
       "      <td>0.0</td>\n",
       "      <td>11.93</td>\n",
       "      <td>0</td>\n",
       "      <td>0.573</td>\n",
       "      <td>6.976</td>\n",
       "      <td>91.0</td>\n",
       "      <td>2.1675</td>\n",
       "      <td>1</td>\n",
       "      <td>273.0</td>\n",
       "      <td>21.0</td>\n",
       "      <td>396.90</td>\n",
       "      <td>5.64</td>\n",
       "      <td>23.9</td>\n",
       "    </tr>\n",
       "    <tr>\n",
       "      <th>504</th>\n",
       "      <td>0.10959</td>\n",
       "      <td>0.0</td>\n",
       "      <td>11.93</td>\n",
       "      <td>0</td>\n",
       "      <td>0.573</td>\n",
       "      <td>6.794</td>\n",
       "      <td>89.3</td>\n",
       "      <td>2.3889</td>\n",
       "      <td>1</td>\n",
       "      <td>273.0</td>\n",
       "      <td>21.0</td>\n",
       "      <td>393.45</td>\n",
       "      <td>6.48</td>\n",
       "      <td>22.0</td>\n",
       "    </tr>\n",
       "    <tr>\n",
       "      <th>505</th>\n",
       "      <td>0.04741</td>\n",
       "      <td>0.0</td>\n",
       "      <td>11.93</td>\n",
       "      <td>0</td>\n",
       "      <td>0.573</td>\n",
       "      <td>6.030</td>\n",
       "      <td>80.8</td>\n",
       "      <td>2.5050</td>\n",
       "      <td>1</td>\n",
       "      <td>273.0</td>\n",
       "      <td>21.0</td>\n",
       "      <td>396.90</td>\n",
       "      <td>7.88</td>\n",
       "      <td>11.9</td>\n",
       "    </tr>\n",
       "  </tbody>\n",
       "</table>\n",
       "<p>506 rows × 14 columns</p>\n",
       "</div>"
      ],
      "text/plain": [
       "        CRIM    ZN  INDUS  CHAS    NOX     RM   AGE     DIS  RAD    TAX  \\\n",
       "0    0.00632  18.0   2.31     0  0.538  6.575  65.2  4.0900    1  296.0   \n",
       "1    0.02731   0.0   7.07     0  0.469  6.421  78.9  4.9671    2  242.0   \n",
       "2    0.02729   0.0   7.07     0  0.469  7.185  61.1  4.9671    2  242.0   \n",
       "3    0.03237   0.0   2.18     0  0.458  6.998  45.8  6.0622    3  222.0   \n",
       "4    0.06905   0.0   2.18     0  0.458  7.147  54.2  6.0622    3  222.0   \n",
       "..       ...   ...    ...   ...    ...    ...   ...     ...  ...    ...   \n",
       "501  0.06263   0.0  11.93     0  0.573  6.593  69.1  2.4786    1  273.0   \n",
       "502  0.04527   0.0  11.93     0  0.573  6.120  76.7  2.2875    1  273.0   \n",
       "503  0.06076   0.0  11.93     0  0.573  6.976  91.0  2.1675    1  273.0   \n",
       "504  0.10959   0.0  11.93     0  0.573  6.794  89.3  2.3889    1  273.0   \n",
       "505  0.04741   0.0  11.93     0  0.573  6.030  80.8  2.5050    1  273.0   \n",
       "\n",
       "     PTRATIO       B  LSTAT  MEDV  \n",
       "0       15.3  396.90   4.98  24.0  \n",
       "1       17.8  396.90   9.14  21.6  \n",
       "2       17.8  392.83   4.03  34.7  \n",
       "3       18.7  394.63   2.94  33.4  \n",
       "4       18.7  396.90   5.33  36.2  \n",
       "..       ...     ...    ...   ...  \n",
       "501     21.0  391.99   9.67  22.4  \n",
       "502     21.0  396.90   9.08  20.6  \n",
       "503     21.0  396.90   5.64  23.9  \n",
       "504     21.0  393.45   6.48  22.0  \n",
       "505     21.0  396.90   7.88  11.9  \n",
       "\n",
       "[506 rows x 14 columns]"
      ]
     },
     "execution_count": 4,
     "metadata": {},
     "output_type": "execute_result"
    }
   ],
   "source": [
    "df"
   ]
  },
  {
   "cell_type": "markdown",
   "id": "cc6129fc-b7e0-47d0-a839-816aa89be4ed",
   "metadata": {},
   "source": [
    "## How the data looks like"
   ]
  },
  {
   "cell_type": "code",
   "execution_count": 5,
   "id": "dbf281b4-f30f-440b-b0f1-54bdbba85322",
   "metadata": {},
   "outputs": [
    {
     "data": {
      "image/png": "[encoded data removed]",
      "text/plain": [
       "<Figure size 640x480 with 1 Axes>"
      ]
     },
     "metadata": {},
     "output_type": "display_data"
    }
   ],
   "source": [
    "make_scatter_plot(df, x_column=\"RM\", y_column=\"MEDV\", fit_line=False) #RM , LSTAT"
   ]
  },
  {
   "cell_type": "markdown",
   "id": "cbbc09b7-2f00-462c-8e92-05ab971aae9d",
   "metadata": {},
   "source": [
    "# Closed Form Solution for Simple Linear Regression\n",
    "\n",
    "we are trying to calculate the values of the slope ($a$) and the intercept ($b$) for the model $f(x)$ where:\n",
    "\n",
    "$f(x) = a * x + b $\n",
    "\n",
    "caluclating the coefficients is what allows to make predictions for a single training/testing example where:\n",
    "\n",
    "a single training example: $(x, y)$\n",
    "\n",
    "and to make a prediction where, $f(x) = \\hat{y}$"
   ]
  },
  {
   "cell_type": "code",
   "execution_count": 7,
   "id": "a314a92c-f64f-497f-8cc1-fb1efe334114",
   "metadata": {},
   "outputs": [],
   "source": [
    "def find_coefficients_uni(df, x_column, y_column):\n",
    "    \"\"\"\n",
    "    Function that estimates the optimal coefficents of a univariate linear regression model.\n",
    "    \n",
    "    Parameters\n",
    "    ----------\n",
    "    df : pandas.DataFrame\n",
    "        dataframe object that contains the dataset.\n",
    "    x_column : str\n",
    "        name of the column that contains the value of the feature x.\n",
    "    y_column : str\n",
    "        name of the column that contains the value of the target y.    \n",
    "    \n",
    "    Returns\n",
    "    -------\n",
    "    dict\n",
    "        dictionary that contains the slope and intercept of the linear function.\n",
    "    \"\"\"\n",
    "    \n",
    "    # get the columns as numpy vectors\n",
    "    x = df[x_column].to_numpy()\n",
    "    y = df[y_column].to_numpy()\n",
    "    \n",
    "    # calculate the average of each vector\n",
    "    x_bar = np.average(df[x_column].to_numpy())\n",
    "    y_bar = np.average(df[y_column].to_numpy())\n",
    "    \n",
    "    # perform the caluclation of each coefficient according to the closed form equation.\n",
    "    # np.multiply is an element-wise opearation\n",
    "    first_summation = sum(np.multiply((x-x_bar),(y-y_bar)))\n",
    "    second_summation = sum(np.square(x-x_bar))\n",
    "    \n",
    "    a =  first_summation/ second_summation\n",
    "    \n",
    "    b = y_bar - (a*x_bar)\n",
    "    \n",
    "    return {\n",
    "        \"slope\": a,\n",
    "        \"intercept\": b,\n",
    "    }"
   ]
  },
  {
   "cell_type": "code",
   "execution_count": 8,
   "id": "599caea1-4a17-4fff-85bd-a2efab06f821",
   "metadata": {},
   "outputs": [
    {
     "data": {
      "image/png": "[encoded data removed]",
      "text/plain": [
       "<Figure size 640x480 with 1 Axes>"
      ]
     },
     "metadata": {},
     "output_type": "display_data"
    }
   ],
   "source": [
    "coefficients = find_coefficients_uni(df, x_column=\"RM\", y_column=\"MEDV\")\n",
    "\n",
    "# coefficients[\"slope\"] = 2\n",
    "# coefficients[\"intercept\"] = 10\n",
    "make_scatter_plot(df, x_column=\"RM\", y_column=\"MEDV\", fit_line=coefficients)"
   ]
  },
  {
   "cell_type": "markdown",
   "id": "74210aa0-a24c-420d-934b-848cf44b21a4",
   "metadata": {},
   "source": [
    "# Calculating the Error\n",
    "After training our model it is essential that we evaluate its performance. And we do that by using an error (cost) function.\n",
    "\n",
    "There are many known error functions that can be used to evaluate a regression model, but we will Mean Sqaured Error."
   ]
  },
  {
   "cell_type": "markdown",
   "id": "f4bd8fa6-6105-479b-80fa-ca241332544a",
   "metadata": {},
   "source": [
    "Mean Sqaured Error:\n",
    "\n",
    "$J(y, \\hat{y}) = \\frac{1}{n} \\sum_{i=1}^{n} (\\hat{y}_i - y_i) ^ 2$\n",
    "\n",
    "where, $y$ and $\\hat{y}$ are the ground-truth (target) and the prediction made the model respectively.\n",
    "\n",
    "$n$ is the number of examples in the training (or testing) data\n",
    "\n",
    "and $i$ is the index of the example"
   ]
  },
  {
   "cell_type": "code",
   "execution_count": 9,
   "id": "c666f4bc-b867-413d-924b-7bfcff541647",
   "metadata": {},
   "outputs": [],
   "source": [
    "def error_func(y, y_hat):\n",
    "    \"\"\"\n",
    "    function that calucaltes the mean sqaured error between two vectors.\n",
    "    \n",
    "    Parameters\n",
    "    ----------\n",
    "    y : numpy.Array\n",
    "        vector that contains the original ground truth values of the trarget variable.\n",
    "    y_hat : numpy.Array\n",
    "        vector that contains the predicted values made by the model.\n",
    "    \n",
    "    Returns\n",
    "    -------\n",
    "    dict\n",
    "        dictionary that contains the slope and intercept of the linear function.\n",
    "    \"\"\"\n",
    "    return np.average(np.square(y-y_hat))\n",
    "\n",
    "\n",
    "y = df[\"MEDV\"].to_numpy()\n",
    "y_hat = coefficients[\"slope\"] * df[\"RM\"] + coefficients[\"intercept\"]"
   ]
  },
  {
   "cell_type": "code",
   "execution_count": 10,
   "id": "dc642124-2271-442f-ab18-df802062cb9c",
   "metadata": {},
   "outputs": [
    {
     "data": {
      "text/plain": [
       "43.60055177116957"
      ]
     },
     "execution_count": 10,
     "metadata": {},
     "output_type": "execute_result"
    }
   ],
   "source": [
    "error_func(y, y_hat)"
   ]
  },
  {
   "cell_type": "markdown",
   "id": "47d9efa2-4cf4-4ed0-b03f-455f8cb49963",
   "metadata": {},
   "source": [
    "# Multivariate Linear Regression and the Normal Equation\n",
    "\n",
    "a multivariate Linear regression model will contain multiple coefficients to adjust for multiple features\n",
    "\n",
    "$f(x) = \\Theta _{1} * x_{1} + \\Theta _{2} * x_{2} +  ........ + \\Theta _{j} * x_{j}$\n",
    "\n",
    "$f(x) = \\hat{y}$\n",
    "\n",
    "where $j$ is the number of features."
   ]
  },
  {
   "cell_type": "markdown",
   "id": "f09b78fe-427c-4425-975a-cf6a20b6b896",
   "metadata": {},
   "source": [
    "There are multiple ways to find the optimal parameters (weights or coefficients) of model.\n",
    "\n",
    "We will be using the \"Normal Equation\" to estimate those parameters which goes as follows:\n",
    "\n",
    "$\\theta = (X^{T} \\cdot X)^{-1} \\cdot X^{T} \\cdot y$\n",
    "\n",
    "where:\n",
    "\n",
    "\n",
    "$\n",
    "X = \n",
    "\\begin{bmatrix}\n",
    " x_{1}^{1} & ... & x_{j}^{1}\\\\\n",
    " x_{1}^{2} & ... & x_{j}^{2}\\\\\n",
    " ... & ... & ...\\\\\n",
    " ... & ... & ...\\\\\n",
    " x_{j}^{i} & ... & x_{j}^{i}\\\\\n",
    "\\end{bmatrix}\n",
    "$\n",
    "&nbsp; &nbsp; and, &nbsp; &nbsp; &nbsp;\n",
    "$\n",
    "y = \n",
    "\\begin{bmatrix}\n",
    " y^{1}\\\\\n",
    " y^{2}\\\\\n",
    " ...\\\\\n",
    " ...\\\\\n",
    " y^{i}\\\\\n",
    "\\end{bmatrix}\n",
    "$\n",
    "\n",
    "$i$ is the $i^{th}$ example of the dataset.\n",
    "\n",
    "$j$ is the $j^{th}$ feature for an example. "
   ]
  },
  {
   "cell_type": "code",
   "execution_count": 11,
   "id": "e2f74ce4-65e9-46fa-877b-41f18f1a5e8f",
   "metadata": {},
   "outputs": [],
   "source": [
    "def find_coefficients_multi(df, x_columns, y_column):\n",
    "    \"\"\"\n",
    "    Function that estimates the optimal coefficents of a multivariate linear regression model.\n",
    "    \n",
    "    Parameters\n",
    "    ----------\n",
    "    df : pandas.DataFrame\n",
    "        dataframe object that contains the dataset.\n",
    "    x_column : list\n",
    "        list of names of the columns that contain the values of the features x1 to xj.\n",
    "    y_column : str\n",
    "        name of the column that contains the value of the target y.    \n",
    "    \n",
    "    Returns\n",
    "    -------\n",
    "    numpy.Array\n",
    "        array that contains the values of all the coefficents theta.\n",
    "    \"\"\"\n",
    "    X = df[x_columns].to_numpy()\n",
    "    y = df[y_column].to_numpy()\n",
    "    \n",
    "    theta = np.linalg.inv( X.T @ X) @ X.T @ y\n",
    "    \n",
    "    return theta"
   ]
  },
  {
   "cell_type": "code",
   "execution_count": 12,
   "id": "628383aa-1565-4468-a77e-3c9b259ae28d",
   "metadata": {},
   "outputs": [
    {
     "data": {
      "text/plain": [
       "(3,)"
      ]
     },
     "execution_count": 12,
     "metadata": {},
     "output_type": "execute_result"
    }
   ],
   "source": [
    "theta = find_coefficients_multi(df,\n",
    "                        x_columns = ['CHAS', 'NOX', 'RM',],\n",
    "                        y_column = \"MEDV\")\n",
    "theta.shape"
   ]
  },
  {
   "cell_type": "markdown",
   "id": "a18ca1e9-b9c7-4524-8c3d-3429ae72823e",
   "metadata": {},
   "source": [
    "How we make predictions is by multiplying the feature ($X$) vector (or matrix in case of multiple examples) with the theta ($\\theta$) vector:\n",
    "\n",
    "\n",
    "\\begin{align} \n",
    "f(x) &=  \\Theta _{1} * x_{1} + \\Theta _{2} * x_{2} +  ........ + \\Theta _{j} * x_{j} \\\\ \n",
    " &=  \\hat{y}\n",
    "\\end{align}"
   ]
  },
  {
   "cell_type": "code",
   "execution_count": 13,
   "id": "64c4fd6b-6a19-4261-b559-144de728c5ad",
   "metadata": {},
   "outputs": [
    {
     "data": {
      "text/html": [
       "<div>\n",
       "<style scoped>\n",
       "    .dataframe tbody tr th:only-of-type {\n",
       "        vertical-align: middle;\n",
       "    }\n",
       "\n",
       "    .dataframe tbody tr th {\n",
       "        vertical-align: top;\n",
       "    }\n",
       "\n",
       "    .dataframe thead th {\n",
       "        text-align: right;\n",
       "    }\n",
       "</style>\n",
       "<table border=\"1\" class=\"dataframe\">\n",
       "  <thead>\n",
       "    <tr style=\"text-align: right;\">\n",
       "      <th></th>\n",
       "      <th>CRIM</th>\n",
       "      <th>ZN</th>\n",
       "      <th>INDUS</th>\n",
       "      <th>CHAS</th>\n",
       "      <th>NOX</th>\n",
       "      <th>RM</th>\n",
       "      <th>AGE</th>\n",
       "      <th>DIS</th>\n",
       "      <th>RAD</th>\n",
       "      <th>TAX</th>\n",
       "      <th>PTRATIO</th>\n",
       "      <th>B</th>\n",
       "      <th>LSTAT</th>\n",
       "      <th>MEDV</th>\n",
       "    </tr>\n",
       "  </thead>\n",
       "  <tbody>\n",
       "    <tr>\n",
       "      <th>0</th>\n",
       "      <td>0.00632</td>\n",
       "      <td>18.0</td>\n",
       "      <td>2.31</td>\n",
       "      <td>0</td>\n",
       "      <td>0.538</td>\n",
       "      <td>6.575</td>\n",
       "      <td>65.2</td>\n",
       "      <td>4.0900</td>\n",
       "      <td>1</td>\n",
       "      <td>296.0</td>\n",
       "      <td>15.3</td>\n",
       "      <td>396.90</td>\n",
       "      <td>4.98</td>\n",
       "      <td>24.0</td>\n",
       "    </tr>\n",
       "    <tr>\n",
       "      <th>1</th>\n",
       "      <td>0.02731</td>\n",
       "      <td>0.0</td>\n",
       "      <td>7.07</td>\n",
       "      <td>0</td>\n",
       "      <td>0.469</td>\n",
       "      <td>6.421</td>\n",
       "      <td>78.9</td>\n",
       "      <td>4.9671</td>\n",
       "      <td>2</td>\n",
       "      <td>242.0</td>\n",
       "      <td>17.8</td>\n",
       "      <td>396.90</td>\n",
       "      <td>9.14</td>\n",
       "      <td>21.6</td>\n",
       "    </tr>\n",
       "    <tr>\n",
       "      <th>2</th>\n",
       "      <td>0.02729</td>\n",
       "      <td>0.0</td>\n",
       "      <td>7.07</td>\n",
       "      <td>0</td>\n",
       "      <td>0.469</td>\n",
       "      <td>7.185</td>\n",
       "      <td>61.1</td>\n",
       "      <td>4.9671</td>\n",
       "      <td>2</td>\n",
       "      <td>242.0</td>\n",
       "      <td>17.8</td>\n",
       "      <td>392.83</td>\n",
       "      <td>4.03</td>\n",
       "      <td>34.7</td>\n",
       "    </tr>\n",
       "    <tr>\n",
       "      <th>3</th>\n",
       "      <td>0.03237</td>\n",
       "      <td>0.0</td>\n",
       "      <td>2.18</td>\n",
       "      <td>0</td>\n",
       "      <td>0.458</td>\n",
       "      <td>6.998</td>\n",
       "      <td>45.8</td>\n",
       "      <td>6.0622</td>\n",
       "      <td>3</td>\n",
       "      <td>222.0</td>\n",
       "      <td>18.7</td>\n",
       "      <td>394.63</td>\n",
       "      <td>2.94</td>\n",
       "      <td>33.4</td>\n",
       "    </tr>\n",
       "  </tbody>\n",
       "</table>\n",
       "</div>"
      ],
      "text/plain": [
       "      CRIM    ZN  INDUS  CHAS    NOX     RM   AGE     DIS  RAD    TAX  \\\n",
       "0  0.00632  18.0   2.31     0  0.538  6.575  65.2  4.0900    1  296.0   \n",
       "1  0.02731   0.0   7.07     0  0.469  6.421  78.9  4.9671    2  242.0   \n",
       "2  0.02729   0.0   7.07     0  0.469  7.185  61.1  4.9671    2  242.0   \n",
       "3  0.03237   0.0   2.18     0  0.458  6.998  45.8  6.0622    3  222.0   \n",
       "\n",
       "   PTRATIO       B  LSTAT  MEDV  \n",
       "0     15.3  396.90   4.98  24.0  \n",
       "1     17.8  396.90   9.14  21.6  \n",
       "2     17.8  392.83   4.03  34.7  \n",
       "3     18.7  394.63   2.94  33.4  "
      ]
     },
     "execution_count": 13,
     "metadata": {},
     "output_type": "execute_result"
    }
   ],
   "source": [
    "df.head(4)"
   ]
  },
  {
   "cell_type": "code",
   "execution_count": 14,
   "id": "2a620f1e-8006-4f8a-8f66-34cae9666500",
   "metadata": {},
   "outputs": [
    {
     "data": {
      "text/plain": [
       "array([24.47468584, 25.51416698, 30.14566921, 29.32658755])"
      ]
     },
     "execution_count": 14,
     "metadata": {},
     "output_type": "execute_result"
    }
   ],
   "source": [
    "def make_prediction(X, theta):\n",
    "    \"\"\"\n",
    "    Function That makes predictions based on the values of theta.\n",
    "    \n",
    "    Parameters\n",
    "    ----------\n",
    "    X : numpy.Array\n",
    "        Array that contains the values of features for multiple examples\n",
    "        dim (or shape) is equal to (i, j).\n",
    "    theta : numpy.Array\n",
    "        Array that contains the values of coefficents for the linear regression model.\n",
    "        dim (or shape) is equal to (j, 1).\n",
    "    \n",
    "    Returns\n",
    "    -------\n",
    "    numpy.Array\n",
    "        array that contains the predicted values y_hat.\n",
    "    \"\"\"\n",
    "    return X @ theta\n",
    "\n",
    "# get the features for n examples\n",
    "n = 4\n",
    "X = df[['CHAS', 'NOX', 'RM',]].to_numpy()[0:n]\n",
    "\n",
    "y_hat = make_prediction(X, theta)\n",
    "y_hat"
   ]
  },
  {
   "cell_type": "code",
   "execution_count": 15,
   "id": "bb4ccb01-4f96-41a9-9b98-48e9dd715267",
   "metadata": {},
   "outputs": [
    {
     "data": {
      "text/plain": [
       "13.220161928928107"
      ]
     },
     "execution_count": 15,
     "metadata": {},
     "output_type": "execute_result"
    }
   ],
   "source": [
    "y = df[\"MEDV\"].to_numpy()[0:n]\n",
    "\n",
    "error = error_func(y, y_hat)\n",
    "error"
   ]
  },
  {
   "cell_type": "markdown",
   "id": "0124f5f4-40b2-455c-bfe5-cfd313d64d70",
   "metadata": {},
   "source": [
    "## Adjusting the Model Parameters\n",
    "The equation for the multivariate model we eariler discuessed is missing a key component.\n",
    "\n",
    "And that is the \"Bias\", which we eariler called the intercept in the case of a univariate model.\n",
    "The bias is a coefficient that is not multiplied by a feature value. \n",
    "\n",
    "$f(x) \\quad=\\quad x_{0}*\\theta _{0} \\quad+\\quad \\Theta _{1} * x_{1} \\quad+\\quad \\Theta _{2} * x_{2} \\quad+\\quad  ........ \\quad+\\quad \\Theta _{j} * x_{j} $\n",
    "\n",
    "where, $x_{0} = 1$ and $\\theta _{0}$ is the bias"
   ]
  },
  {
   "cell_type": "markdown",
   "id": "7b4a811b-5280-499c-acd2-6458e2c07fe3",
   "metadata": {},
   "source": [
    "so the final version of the equation becomes:\n",
    "\n",
    "$f(x) \\quad=\\quad \\Theta _{1} * x_{1} \\quad+\\quad \\Theta _{2} * x_{2} \\quad+\\quad  ........ \\quad+\\quad \\Theta _{j} * x_{j} \\quad+\\quad c$\n",
    "\n",
    "where, $c =x_{0}*\\theta _{0}$"
   ]
  },
  {
   "cell_type": "code",
   "execution_count": 16,
   "id": "224063ea-da5f-4e5c-ae32-21d7c7224c72",
   "metadata": {},
   "outputs": [],
   "source": [
    "def find_coefficients_multi_1(df, x_columns, y_column):\n",
    "    \"\"\"\n",
    "    Function that estimates the optimal coefficents of a multivariate linear regression model.\n",
    "    This version adds a bias.\n",
    "    \n",
    "    Parameters\n",
    "    ----------\n",
    "    df : pandas.DataFrame\n",
    "        dataframe object that contains the dataset.\n",
    "    x_column : list\n",
    "        list of names of the columns that contain the values of the features x1 to xj.\n",
    "    y_column : str\n",
    "        name of the column that contains the value of the target y.    \n",
    "    \n",
    "    Returns\n",
    "    -------\n",
    "    numpy.Array\n",
    "        array that contains the values of all the coefficents theta.\n",
    "    \"\"\"\n",
    "    X = df[x_columns].to_numpy()\n",
    "    X = np.c_[np.ones(shape=X.shape[0]), X]\n",
    "    \n",
    "    y = df[y_column].to_numpy()\n",
    "    \n",
    "    theta = np.linalg.inv( X.T @ X) @ X.T @ y\n",
    "    \n",
    "    return theta"
   ]
  },
  {
   "cell_type": "code",
   "execution_count": 17,
   "id": "cd047139-6db7-47dc-84cb-592b1f73e06e",
   "metadata": {},
   "outputs": [
    {
     "data": {
      "text/plain": [
       "array([-16.19424196,   5.20059787, -20.46066759,   7.91084275])"
      ]
     },
     "execution_count": 17,
     "metadata": {},
     "output_type": "execute_result"
    }
   ],
   "source": [
    "theta = find_coefficients_multi_1(df,\n",
    "                                  x_columns = ['CHAS', 'NOX', 'RM',],\n",
    "                                  y_column = \"MEDV\")\n",
    "theta"
   ]
  },
  {
   "cell_type": "code",
   "execution_count": 18,
   "id": "9f9c6187-9e22-4ff1-924c-099c9bbb6bef",
   "metadata": {},
   "outputs": [
    {
     "data": {
      "text/plain": [
       "array([24.81170993, 25.00522621, 31.04911007, 29.79484982])"
      ]
     },
     "execution_count": 18,
     "metadata": {},
     "output_type": "execute_result"
    }
   ],
   "source": [
    "def make_prediction(X, theta):\n",
    "    \"\"\"\n",
    "    Function That makes predictions based on the values of theta.\n",
    "    \n",
    "    Parameters\n",
    "    ----------\n",
    "    X : numpy.Array\n",
    "        Array that contains the values of features for multiple examples\n",
    "        dim (or shape) is equal to (i, j).\n",
    "    theta : numpy.Array\n",
    "        Array that contains the values of coefficents for the linear regression model.\n",
    "        dim (or shape) is equal to (j, 1).\n",
    "    \n",
    "    Returns\n",
    "    -------\n",
    "    numpy.Array\n",
    "        array that contains the predicted values y_hat.\n",
    "    \"\"\"\n",
    "    X = np.c_[np.ones(shape=X.shape[0]), X]\n",
    "    return X @ theta\n",
    "\n",
    "# get the features for n examples\n",
    "n = 4\n",
    "X = df[['CHAS', 'NOX', 'RM',]].to_numpy()[0:n]\n",
    "\n",
    "y_hat = make_prediction(X, theta)\n",
    "y_hat"
   ]
  },
  {
   "cell_type": "code",
   "execution_count": 19,
   "id": "7b2eee1e-1b21-4c8b-b844-1aca416f4e52",
   "metadata": {},
   "outputs": [
    {
     "data": {
      "text/plain": [
       "9.645135911598672"
      ]
     },
     "execution_count": 19,
     "metadata": {},
     "output_type": "execute_result"
    }
   ],
   "source": [
    "y = df[\"MEDV\"].to_numpy()[0:n]\n",
    "\n",
    "error = error_func(y, y_hat)\n",
    "error"
   ]
  },
  {
   "cell_type": "markdown",
   "id": "b4c2e625-a795-4999-b24f-48308e7fa0a4",
   "metadata": {},
   "source": [
    "# Using Scikit learn"
   ]
  },
  {
   "cell_type": "code",
   "execution_count": 20,
   "id": "b896e65f-55b2-46f3-9a54-b9b2edd93847",
   "metadata": {},
   "outputs": [],
   "source": [
    "from sklearn.linear_model import LinearRegression"
   ]
  },
  {
   "cell_type": "code",
   "execution_count": 21,
   "id": "314b8a31-8676-42fe-a644-fa8efb4631d7",
   "metadata": {},
   "outputs": [
    {
     "name": "stdout",
     "output_type": "stream",
     "text": [
      "Coefficiens : [  5.20059787 -20.46066759   7.91084275]\n",
      "interecept : -16.19424196413492\n"
     ]
    }
   ],
   "source": [
    "model = LinearRegression()\n",
    "X = df[['CHAS', 'NOX', 'RM',]].to_numpy()\n",
    "\n",
    "model.fit(X, df[\"MEDV\"])\n",
    "a = model.coef_\n",
    "b = model.intercept_\n",
    "\n",
    "print(\"Coefficiens :\", a)\n",
    "print(\"interecept :\", b)"
   ]
  }
 ],
 "metadata": {
  "kernelspec": {
   "display_name": "Python 3 (ipykernel)",
   "language": "python",
   "name": "python3"
  },
  "language_info": {
   "codemirror_mode": {
    "name": "ipython",
    "version": 3
   },
   "file_extension": ".py",
   "mimetype": "text/x-python",
   "name": "python",
   "nbconvert_exporter": "python",
   "pygments_lexer": "ipython3",
   "version": "3.11.5"
  }
 },
 "nbformat": 4,
 "nbformat_minor": 5
}
